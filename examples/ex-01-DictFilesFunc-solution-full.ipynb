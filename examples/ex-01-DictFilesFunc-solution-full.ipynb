{
 "cells": [
  {
   "cell_type": "markdown",
   "metadata": {},
   "source": [
    "# Jupyter Notebook, Arrays, Lists, and Loops"
   ]
  },
  {
   "cell_type": "markdown",
   "metadata": {},
   "source": [
    "## Jupyter notebook usage\n",
    "\n",
    "Remember that you can see all the keyboard shortcut under `Help -> Keyboard Shortcut`.  Please try to memorize and use them as much as you can."
   ]
  },
  {
   "cell_type": "markdown",
   "metadata": {},
   "source": [
    "#### 1.1) Create a new code cell."
   ]
  },
  {
   "cell_type": "markdown",
   "metadata": {},
   "source": [
    "**Answer:** *To create a new code cell either select the correct entry in the \"Insert\" menu or use the one of the following shortcuts:*\n",
    "+ `B` (insert cell below)\n",
    "+ `A` (insert cell above).\n"
   ]
  },
  {
   "cell_type": "markdown",
   "metadata": {},
   "source": [
    "#### 1.2) Create a new Markdown cell write a sentence in it."
   ]
  },
  {
   "cell_type": "markdown",
   "metadata": {},
   "source": [
    "**Answer:** *By default a new cell will be a `code cell`.  To switch to a Markdown cell use the \"Cell->Cell Type\" menu or use the `M` shortcut. You can read more about Markdown at [this link](https://daringfireball.net/projects/markdown/).*"
   ]
  },
  {
   "cell_type": "markdown",
   "metadata": {},
   "source": [
    "#### 1.3) Copy the previous, paste it after this one, and set the font face to bold."
   ]
  },
  {
   "cell_type": "markdown",
   "metadata": {},
   "source": [
    "**Answer:** *Use `C` to copy a cell, `V` to paste it below the selected cell, and `Shift-V` to paste it above.  A sentence surrounded by two asterisks symbols will be formatted using a bold typeface. For example: `**this sentence**` will be formatted as **this sentence**.*"
   ]
  },
  {
   "cell_type": "markdown",
   "metadata": {},
   "source": [
    "#### 1.4) Delete the previous cell."
   ]
  },
  {
   "cell_type": "markdown",
   "metadata": {},
   "source": [
    "**Answer:** *Use `D`, `D` (i.e., press `D` twice) to delete a cell.*"
   ]
  },
  {
   "cell_type": "markdown",
   "metadata": {},
   "source": [
    "#### 1.5) Create a new code cell and write code to print 'Hello, world' (execute it!)."
   ]
  },
  {
   "cell_type": "markdown",
   "metadata": {},
   "source": [
    "**Answer:** *Use `B` to create a cell below.  To print a sentence use the `print` function and pass `\"Hello, world\"` as paramter. To execute a code cell use the `Ctrl+ENTER` shortcut.*"
   ]
  },
  {
   "cell_type": "code",
   "execution_count": 1,
   "metadata": {},
   "outputs": [
    {
     "name": "stdout",
     "output_type": "stream",
     "text": [
      "Hello, world\n"
     ]
    }
   ],
   "source": [
    "print(\"Hello, world\")"
   ]
  },
  {
   "cell_type": "markdown",
   "metadata": {},
   "source": [
    "## Lists, Loops, Arrays"
   ]
  },
  {
   "cell_type": "markdown",
   "metadata": {},
   "source": [
    "#### 2.1) Create a list named `sw_movies` and set its initial value to the sequence `[\"The Phantom Menace\", \"Attack of the Clones\", \"Revenge of the Sith\", \"A New Hope\", \"The Empire Strikes Back\", \"Return of the Jedi\", \"The Force Awakens\", \"The Last Jedi\"]`"
   ]
  },
  {
   "cell_type": "code",
   "execution_count": 1,
   "metadata": {},
   "outputs": [],
   "source": [
    "sw_movies = [\"The Phantom Menace\", \"Attack of the Clones\",\n",
    "             \"Revenge of the Sith\", \"A New Hope\",\n",
    "             \"The Empire Strikes Back\", \"Return of the Jedi\",\n",
    "             \"The Force Awakens\", \"The Last Jedi\"]"
   ]
  },
  {
   "cell_type": "markdown",
   "metadata": {},
   "source": [
    "#### 2.2) Append `\"Unknown Title\"` to `sw_movies`."
   ]
  },
  {
   "cell_type": "markdown",
   "metadata": {},
   "source": [
    "**Answer:** *It is possible to append an element to a list using the `append` method of it. It is possible to read the documentation directly in the jupyter notebook by issuing one of the following commands.*\n",
    "```python\n",
    "help(sw_movies.append)\n",
    "sw_movies.append?\n",
    "```"
   ]
  },
  {
   "cell_type": "code",
   "execution_count": 3,
   "metadata": {},
   "outputs": [
    {
     "name": "stdout",
     "output_type": "stream",
     "text": [
      "Help on built-in function append:\n",
      "\n",
      "append(...) method of builtins.list instance\n",
      "    L.append(object) -> None -- append object to end\n",
      "\n"
     ]
    }
   ],
   "source": [
    "help(sw_movies.append)"
   ]
  },
  {
   "cell_type": "code",
   "execution_count": 2,
   "metadata": {},
   "outputs": [],
   "source": [
    "sw_movies.append(\"Unknown Title\")"
   ]
  },
  {
   "cell_type": "code",
   "execution_count": 5,
   "metadata": {},
   "outputs": [
    {
     "name": "stdout",
     "output_type": "stream",
     "text": [
      "['The Phantom Menace', 'Attack of the Clones', 'Revenge of the Sith', 'A New Hope', 'The Empire Strikes Back', 'Return of the Jedi', 'The Force Awakens', 'The Last Jedi', 'Unknown Title']\n"
     ]
    }
   ],
   "source": [
    "print(sw_movies)"
   ]
  },
  {
   "cell_type": "markdown",
   "metadata": {},
   "source": [
    "#### 2.3) Access (and print) the 5th element of `sw_movies`."
   ]
  },
  {
   "cell_type": "markdown",
   "metadata": {},
   "source": [
    "**Answer:** *Recall that the first element of the list is in position 0.  Thus, the 5th element will be in position 4.*"
   ]
  },
  {
   "cell_type": "code",
   "execution_count": 6,
   "metadata": {},
   "outputs": [
    {
     "name": "stdout",
     "output_type": "stream",
     "text": [
      "The Empire Strikes Back\n"
     ]
    }
   ],
   "source": [
    "print(sw_movies[4])"
   ]
  },
  {
   "cell_type": "markdown",
   "metadata": {},
   "source": [
    "#### 2.4) Access (and print) the element in position 5 of `sw_movies`."
   ]
  },
  {
   "cell_type": "code",
   "execution_count": 7,
   "metadata": {},
   "outputs": [
    {
     "name": "stdout",
     "output_type": "stream",
     "text": [
      "Return of the Jedi\n"
     ]
    }
   ],
   "source": [
    "print(sw_movies[5])"
   ]
  },
  {
   "cell_type": "markdown",
   "metadata": {},
   "source": [
    "#### 2.5) Print the 4th, 5th, and 6th elements of `sw_movies`"
   ]
  },
  {
   "cell_type": "markdown",
   "metadata": {},
   "source": [
    "**Answer:** *There are at least 3 ways print contiguous elements of a list.*"
   ]
  },
  {
   "cell_type": "markdown",
   "metadata": {},
   "source": [
    "+ *Print each element using a different call to `print`*"
   ]
  },
  {
   "cell_type": "code",
   "execution_count": 8,
   "metadata": {},
   "outputs": [
    {
     "name": "stdout",
     "output_type": "stream",
     "text": [
      "A New Hope\n",
      "The Empire Strikes Back\n",
      "Return of the Jedi\n"
     ]
    }
   ],
   "source": [
    "print(sw_movies[3])\n",
    "print(sw_movies[4])\n",
    "print(sw_movies[5])"
   ]
  },
  {
   "cell_type": "markdown",
   "metadata": {},
   "source": [
    "+ *Use a single call of `print` to print each element on the same line*"
   ]
  },
  {
   "cell_type": "code",
   "execution_count": 9,
   "metadata": {},
   "outputs": [
    {
     "name": "stdout",
     "output_type": "stream",
     "text": [
      "A New Hope  -  The Empire Strikes Back  -  Return of the Jedi\n"
     ]
    }
   ],
   "source": [
    "print(sw_movies[3], \" - \", sw_movies[4], \" - \", sw_movies[5])"
   ]
  },
  {
   "cell_type": "markdown",
   "metadata": {},
   "source": [
    "+ *Print the sub-list of the elements from position 3 to position 6 (excluded)*"
   ]
  },
  {
   "cell_type": "code",
   "execution_count": 10,
   "metadata": {},
   "outputs": [
    {
     "name": "stdout",
     "output_type": "stream",
     "text": [
      "['A New Hope', 'The Empire Strikes Back', 'Return of the Jedi']\n"
     ]
    }
   ],
   "source": [
    "print(sw_movies[3:6])"
   ]
  },
  {
   "cell_type": "markdown",
   "metadata": {},
   "source": [
    "#### 2.6) Delete the last element of the list using `pop()`.  Remember that you can access the documentation of any function using one of the following commands:\n",
    "\n",
    "```python\n",
    "sw_movies.pop?\n",
    "help(sw_movies.pop)\n",
    "```"
   ]
  },
  {
   "cell_type": "code",
   "execution_count": 11,
   "metadata": {},
   "outputs": [
    {
     "name": "stdout",
     "output_type": "stream",
     "text": [
      "['The Phantom Menace', 'Attack of the Clones', 'Revenge of the Sith', 'A New Hope', 'The Empire Strikes Back', 'Return of the Jedi', 'The Force Awakens', 'The Last Jedi']\n"
     ]
    }
   ],
   "source": [
    "sw_movies.pop()\n",
    "print(sw_movies)"
   ]
  },
  {
   "cell_type": "markdown",
   "metadata": {},
   "source": [
    "#### 2.7) Check the type of `sw_movies`."
   ]
  },
  {
   "cell_type": "code",
   "execution_count": 12,
   "metadata": {},
   "outputs": [
    {
     "data": {
      "text/plain": [
       "list"
      ]
     },
     "execution_count": 12,
     "metadata": {},
     "output_type": "execute_result"
    }
   ],
   "source": [
    "type(sw_movies)"
   ]
  },
  {
   "cell_type": "markdown",
   "metadata": {},
   "source": [
    "#### 2.8) Check the type of the elements of `sw_movies`."
   ]
  },
  {
   "cell_type": "code",
   "execution_count": 13,
   "metadata": {},
   "outputs": [
    {
     "data": {
      "text/plain": [
       "str"
      ]
     },
     "execution_count": 13,
     "metadata": {},
     "output_type": "execute_result"
    }
   ],
   "source": [
    "type(sw_movies[0])"
   ]
  },
  {
   "cell_type": "markdown",
   "metadata": {},
   "source": [
    "#### 2.9) Check the type of the elements of `sw_movies`, iterating over its elements using a loop."
   ]
  },
  {
   "cell_type": "markdown",
   "metadata": {},
   "source": [
    "**Answer::** *In Python, the most used loop is the `for` loop. Its syntax is the following*\n",
    "```python\n",
    "for my_element in my_list:\n",
    "    # Do something with my_element, for example print it\n",
    "    print(my_element)\n",
    "```\n",
    "*This for loop will pick one element from `my_list` at each iteration (in order) and will execute the code in the body of the loop.  Please note that at each iteration the value of `my_element` changes and that the indentation of the code matters.*"
   ]
  },
  {
   "cell_type": "code",
   "execution_count": 14,
   "metadata": {},
   "outputs": [
    {
     "name": "stdout",
     "output_type": "stream",
     "text": [
      "<class 'str'>\n",
      "<class 'str'>\n",
      "<class 'str'>\n",
      "<class 'str'>\n",
      "<class 'str'>\n",
      "<class 'str'>\n",
      "<class 'str'>\n",
      "<class 'str'>\n"
     ]
    }
   ],
   "source": [
    "for movie in sw_movies:\n",
    "    print(type(movie))"
   ]
  },
  {
   "cell_type": "markdown",
   "metadata": {},
   "source": [
    "#### 2.10) Print the elements of `sw_movies` alongside their episode number (\"The Phantom Menace\" is episode number 1, \"Attack of the Clones\" is episode number 2. etc. etc.)."
   ]
  },
  {
   "cell_type": "markdown",
   "metadata": {},
   "source": [
    "**Answer:** *As shown before we can iterate over the indexes of `sw_movies` using the `range` function. Let's use it to solve this exercise*"
   ]
  },
  {
   "cell_type": "code",
   "execution_count": 16,
   "metadata": {},
   "outputs": [
    {
     "name": "stdout",
     "output_type": "stream",
     "text": [
      "1 The Phantom Menace\n",
      "2 Attack of the Clones\n",
      "3 Revenge of the Sith\n",
      "4 A New Hope\n",
      "5 The Empire Strikes Back\n",
      "6 Return of the Jedi\n",
      "7 The Force Awakens\n",
      "8 The Last Jedi\n"
     ]
    }
   ],
   "source": [
    "for movie_idx in range(len(sw_movies)):\n",
    "    print(movie_idx+1, sw_movies[movie_idx])"
   ]
  },
  {
   "cell_type": "markdown",
   "metadata": {},
   "source": [
    "*We can also iterate over the elements of `sw_movies`, updating the episode number manually.*"
   ]
  },
  {
   "cell_type": "code",
   "execution_count": 17,
   "metadata": {},
   "outputs": [
    {
     "name": "stdout",
     "output_type": "stream",
     "text": [
      "1 The Phantom Menace\n",
      "2 Attack of the Clones\n",
      "3 Revenge of the Sith\n",
      "4 A New Hope\n",
      "5 The Empire Strikes Back\n",
      "6 Return of the Jedi\n",
      "7 The Force Awakens\n",
      "8 The Last Jedi\n"
     ]
    }
   ],
   "source": [
    "episode_number = 1\n",
    "for movie in sw_movies:\n",
    "    print(episode_number, movie)\n",
    "    episode_number = episode_number + 1 # We can also use episode_number += 1"
   ]
  },
  {
   "cell_type": "markdown",
   "metadata": {},
   "source": [
    "*A more refined way is to use [`f strings`](https://docs.python.org/3/reference/lexical_analysis.html#f-strings)*"
   ]
  },
  {
   "cell_type": "code",
   "execution_count": 4,
   "metadata": {
    "scrolled": true
   },
   "outputs": [
    {
     "name": "stdout",
     "output_type": "stream",
     "text": [
      "The Phantom Menace is episode number 1 of the saga.\n",
      "Attack of the Clones is episode number 2 of the saga.\n",
      "Revenge of the Sith is episode number 3 of the saga.\n",
      "A New Hope is episode number 4 of the saga.\n",
      "The Empire Strikes Back is episode number 5 of the saga.\n",
      "Return of the Jedi is episode number 6 of the saga.\n",
      "The Force Awakens is episode number 7 of the saga.\n",
      "The Last Jedi is episode number 8 of the saga.\n",
      "Unknown Title is episode number 9 of the saga.\n"
     ]
    }
   ],
   "source": [
    "for movie_idx in range(len(sw_movies)):\n",
    "    print(f\"{sw_movies[movie_idx]} is episode number {movie_idx + 1} of the saga.\")"
   ]
  },
  {
   "cell_type": "markdown",
   "metadata": {},
   "source": [
    "#### 2.11) Delete the first element of `sw_movies`."
   ]
  },
  {
   "cell_type": "code",
   "execution_count": 19,
   "metadata": {},
   "outputs": [
    {
     "name": "stdout",
     "output_type": "stream",
     "text": [
      "['Attack of the Clones', 'Revenge of the Sith', 'A New Hope', 'The Empire Strikes Back', 'Return of the Jedi', 'The Force Awakens', 'The Last Jedi']\n"
     ]
    }
   ],
   "source": [
    "sw_movies.pop(0)\n",
    "print(sw_movies)"
   ]
  },
  {
   "cell_type": "markdown",
   "metadata": {},
   "source": [
    "#### 2.12) Put `\"The Panthom Menace\"` back in `sw_movies` (it's still canon after all...)."
   ]
  },
  {
   "cell_type": "code",
   "execution_count": 20,
   "metadata": {},
   "outputs": [
    {
     "name": "stdout",
     "output_type": "stream",
     "text": [
      "['The Phantom Menace', 'Attack of the Clones', 'Revenge of the Sith', 'A New Hope', 'The Empire Strikes Back', 'Return of the Jedi', 'The Force Awakens', 'The Last Jedi']\n"
     ]
    }
   ],
   "source": [
    "sw_movies = [\"The Phantom Menace\"] + sw_movies\n",
    "print(sw_movies)"
   ]
  },
  {
   "cell_type": "markdown",
   "metadata": {},
   "source": [
    "# Dictionaries, Files, Functions, and Libraries"
   ]
  },
  {
   "cell_type": "markdown",
   "metadata": {},
   "source": [
    "## Dictionaries\n",
    "\n",
    "A dictionary is an unordered collection of zero or more key-value pairs.\n",
    "\n",
    "The most simple dictionary is the empty dictionary and can be instantiated using `{}`.\n",
    "Given a dictionary `d` you can access its fields using the following syntax `d[<field_name>]`.\n",
    "For example, if `d` has a `\"name\"` field you can access it using `d[\"name\"]` (both in read and write).\n",
    "It is also possible to create a dictionary with values in it using the `{ <key1> : <value1> , <key2> : <value2>, ...}` syntax.\n",
    "\n",
    "Dictionaries can be nested.  This means that\n",
    "```python\n",
    "{\n",
    " 'Cristiano' : {'age' : 33, 'role' : 'forward', 'goals' : 3},\n",
    " 'Giorgio' : {'age' : 35, 'role' : 'centre-back', 'goals' : 0},\n",
    " 'Blaise' : {'age' : 31, 'role' : 'midfielder', 'goals' : 2}\n",
    "}\n",
    "```\n",
    "is valid in Python.\n",
    "\n",
    "You can iterate over the keys of a dictionary using the `for` loop."
   ]
  },
  {
   "cell_type": "markdown",
   "metadata": {},
   "source": [
    "#### 3.1) Create a dictionary (`squares`) in which the keys are the numbers between 1 and 100 and the values are the square of the keys."
   ]
  },
  {
   "cell_type": "code",
   "execution_count": 21,
   "metadata": {},
   "outputs": [
    {
     "name": "stdout",
     "output_type": "stream",
     "text": [
      "{1: 1, 2: 4, 3: 9, 4: 16, 5: 25, 6: 36, 7: 49, 8: 64, 9: 81, 10: 100, 11: 121, 12: 144, 13: 169, 14: 196, 15: 225, 16: 256, 17: 289, 18: 324, 19: 361, 20: 400, 21: 441, 22: 484, 23: 529, 24: 576, 25: 625, 26: 676, 27: 729, 28: 784, 29: 841, 30: 900, 31: 961, 32: 1024, 33: 1089, 34: 1156, 35: 1225, 36: 1296, 37: 1369, 38: 1444, 39: 1521, 40: 1600, 41: 1681, 42: 1764, 43: 1849, 44: 1936, 45: 2025, 46: 2116, 47: 2209, 48: 2304, 49: 2401, 50: 2500, 51: 2601, 52: 2704, 53: 2809, 54: 2916, 55: 3025, 56: 3136, 57: 3249, 58: 3364, 59: 3481, 60: 3600, 61: 3721, 62: 3844, 63: 3969, 64: 4096, 65: 4225, 66: 4356, 67: 4489, 68: 4624, 69: 4761, 70: 4900, 71: 5041, 72: 5184, 73: 5329, 74: 5476, 75: 5625, 76: 5776, 77: 5929, 78: 6084, 79: 6241, 80: 6400, 81: 6561, 82: 6724, 83: 6889, 84: 7056, 85: 7225, 86: 7396, 87: 7569, 88: 7744, 89: 7921, 90: 8100, 91: 8281, 92: 8464, 93: 8649, 94: 8836, 95: 9025, 96: 9216, 97: 9409, 98: 9604, 99: 9801, 100: 10000}\n"
     ]
    }
   ],
   "source": [
    "squares = {}\n",
    "for key in range(1, 101):\n",
    "    squares[key] = key**2\n",
    "print(squares)"
   ]
  },
  {
   "cell_type": "markdown",
   "metadata": {},
   "source": [
    "#### 3.2) Iterate over `squares` and print the `(key, value)` pair if and only if `key` is either a multiple of 3 or 5."
   ]
  },
  {
   "cell_type": "code",
   "execution_count": 22,
   "metadata": {
    "scrolled": true
   },
   "outputs": [
    {
     "name": "stdout",
     "output_type": "stream",
     "text": [
      "x: 3\tx^2:9\n",
      "x: 5\tx^2:25\n",
      "x: 6\tx^2:36\n",
      "x: 9\tx^2:81\n",
      "x: 10\tx^2:100\n",
      "x: 12\tx^2:144\n",
      "x: 15\tx^2:225\n",
      "x: 18\tx^2:324\n",
      "x: 20\tx^2:400\n",
      "x: 21\tx^2:441\n",
      "x: 24\tx^2:576\n",
      "x: 25\tx^2:625\n",
      "x: 27\tx^2:729\n",
      "x: 30\tx^2:900\n",
      "x: 33\tx^2:1089\n",
      "x: 35\tx^2:1225\n",
      "x: 36\tx^2:1296\n",
      "x: 39\tx^2:1521\n",
      "x: 40\tx^2:1600\n",
      "x: 42\tx^2:1764\n",
      "x: 45\tx^2:2025\n",
      "x: 48\tx^2:2304\n",
      "x: 50\tx^2:2500\n",
      "x: 51\tx^2:2601\n",
      "x: 54\tx^2:2916\n",
      "x: 55\tx^2:3025\n",
      "x: 57\tx^2:3249\n",
      "x: 60\tx^2:3600\n",
      "x: 63\tx^2:3969\n",
      "x: 65\tx^2:4225\n",
      "x: 66\tx^2:4356\n",
      "x: 69\tx^2:4761\n",
      "x: 70\tx^2:4900\n",
      "x: 72\tx^2:5184\n",
      "x: 75\tx^2:5625\n",
      "x: 78\tx^2:6084\n",
      "x: 80\tx^2:6400\n",
      "x: 81\tx^2:6561\n",
      "x: 84\tx^2:7056\n",
      "x: 85\tx^2:7225\n",
      "x: 87\tx^2:7569\n",
      "x: 90\tx^2:8100\n",
      "x: 93\tx^2:8649\n",
      "x: 95\tx^2:9025\n",
      "x: 96\tx^2:9216\n",
      "x: 99\tx^2:9801\n",
      "x: 100\tx^2:10000\n"
     ]
    }
   ],
   "source": [
    "for key in squares:\n",
    "    if key % 3 == 0 or key % 5 == 0:\n",
    "        print(\"x: {}\\tx^2:{}\".format(key, squares[key]))"
   ]
  },
  {
   "cell_type": "markdown",
   "metadata": {},
   "source": [
    "#### 3.3) Create a dictionary (`roots`) in which the keys are the numbers between 1 and 100 and the values are the square roots of the keys."
   ]
  },
  {
   "cell_type": "code",
   "execution_count": 23,
   "metadata": {
    "scrolled": true
   },
   "outputs": [
    {
     "name": "stdout",
     "output_type": "stream",
     "text": [
      "{1: 1.0, 2: 1.4142135623730951, 3: 1.7320508075688772, 4: 2.0, 5: 2.23606797749979, 6: 2.449489742783178, 7: 2.6457513110645907, 8: 2.8284271247461903, 9: 3.0, 10: 3.1622776601683795, 11: 3.3166247903554, 12: 3.4641016151377544, 13: 3.605551275463989, 14: 3.7416573867739413, 15: 3.872983346207417, 16: 4.0, 17: 4.123105625617661, 18: 4.242640687119285, 19: 4.358898943540674, 20: 4.47213595499958, 21: 4.58257569495584, 22: 4.69041575982343, 23: 4.795831523312719, 24: 4.898979485566356, 25: 5.0, 26: 5.0990195135927845, 27: 5.196152422706632, 28: 5.291502622129181, 29: 5.385164807134504, 30: 5.477225575051661, 31: 5.5677643628300215, 32: 5.656854249492381, 33: 5.744562646538029, 34: 5.830951894845301, 35: 5.916079783099616, 36: 6.0, 37: 6.082762530298219, 38: 6.164414002968976, 39: 6.244997998398398, 40: 6.324555320336759, 41: 6.4031242374328485, 42: 6.48074069840786, 43: 6.557438524302, 44: 6.6332495807108, 45: 6.708203932499369, 46: 6.782329983125268, 47: 6.855654600401044, 48: 6.928203230275509, 49: 7.0, 50: 7.0710678118654755, 51: 7.14142842854285, 52: 7.211102550927978, 53: 7.280109889280518, 54: 7.3484692283495345, 55: 7.416198487095663, 56: 7.483314773547883, 57: 7.54983443527075, 58: 7.615773105863909, 59: 7.681145747868608, 60: 7.745966692414834, 61: 7.810249675906654, 62: 7.874007874011811, 63: 7.937253933193772, 64: 8.0, 65: 8.06225774829855, 66: 8.12403840463596, 67: 8.18535277187245, 68: 8.246211251235321, 69: 8.306623862918075, 70: 8.366600265340756, 71: 8.426149773176359, 72: 8.48528137423857, 73: 8.54400374531753, 74: 8.602325267042627, 75: 8.660254037844387, 76: 8.717797887081348, 77: 8.774964387392123, 78: 8.831760866327848, 79: 8.888194417315589, 80: 8.94427190999916, 81: 9.0, 82: 9.055385138137417, 83: 9.1104335791443, 84: 9.16515138991168, 85: 9.219544457292887, 86: 9.273618495495704, 87: 9.327379053088816, 88: 9.38083151964686, 89: 9.433981132056603, 90: 9.486832980505138, 91: 9.539392014169456, 92: 9.591663046625438, 93: 9.643650760992955, 94: 9.695359714832659, 95: 9.746794344808963, 96: 9.797958971132712, 97: 9.848857801796104, 98: 9.899494936611665, 99: 9.9498743710662, 100: 10.0}\n"
     ]
    }
   ],
   "source": [
    "roots = {}\n",
    "for key in range(1, 101):\n",
    "    roots[key] = key**(1/2)\n",
    "print(roots)"
   ]
  },
  {
   "cell_type": "markdown",
   "metadata": {},
   "source": [
    "#### 3.4) Merge `squares` and `roots` and create a new dictionary (`squares_and_roots`) that maps each key to another dictionary with `'square'` and `'root'` as keys (`squares_and_roots[n]['square']` contains the square of `n` and `square_and_roots[n]['root']` contains the root of `n`)."
   ]
  },
  {
   "cell_type": "code",
   "execution_count": 24,
   "metadata": {},
   "outputs": [
    {
     "name": "stdout",
     "output_type": "stream",
     "text": [
      "{'square': 1, 'root': 1.0}\n",
      "{'square': 16, 'root': 2.0}\n",
      "{'square': 256, 'root': 4.0}\n"
     ]
    }
   ],
   "source": [
    "squares_and_roots = {}\n",
    "for key in squares:\n",
    "    squares_and_roots[key] = {'square' : squares[key],\n",
    "                              'root' : roots[key]}\n",
    "print(squares_and_roots[1])\n",
    "print(squares_and_roots[4])\n",
    "print(squares_and_roots[16])"
   ]
  },
  {
   "cell_type": "markdown",
   "metadata": {},
   "source": [
    "#### 3.5) For each key in `sqares_and_roots` print the key, the square, and the root on a single line."
   ]
  },
  {
   "cell_type": "code",
   "execution_count": 25,
   "metadata": {
    "scrolled": true
   },
   "outputs": [
    {
     "name": "stdout",
     "output_type": "stream",
     "text": [
      "     x |    x^2 | x^(1/2)\n",
      "     1 |      1 |  1.000\n",
      "     2 |      4 |  1.414\n",
      "     3 |      9 |  1.732\n",
      "     4 |     16 |  2.000\n",
      "     5 |     25 |  2.236\n",
      "     6 |     36 |  2.449\n",
      "     7 |     49 |  2.646\n",
      "     8 |     64 |  2.828\n",
      "     9 |     81 |  3.000\n",
      "    10 |    100 |  3.162\n",
      "    11 |    121 |  3.317\n",
      "    12 |    144 |  3.464\n",
      "    13 |    169 |  3.606\n",
      "    14 |    196 |  3.742\n",
      "    15 |    225 |  3.873\n",
      "    16 |    256 |  4.000\n",
      "    17 |    289 |  4.123\n",
      "    18 |    324 |  4.243\n",
      "    19 |    361 |  4.359\n",
      "    20 |    400 |  4.472\n",
      "    21 |    441 |  4.583\n",
      "    22 |    484 |  4.690\n",
      "    23 |    529 |  4.796\n",
      "    24 |    576 |  4.899\n",
      "    25 |    625 |  5.000\n",
      "    26 |    676 |  5.099\n",
      "    27 |    729 |  5.196\n",
      "    28 |    784 |  5.292\n",
      "    29 |    841 |  5.385\n",
      "    30 |    900 |  5.477\n",
      "    31 |    961 |  5.568\n",
      "    32 |   1024 |  5.657\n",
      "    33 |   1089 |  5.745\n",
      "    34 |   1156 |  5.831\n",
      "    35 |   1225 |  5.916\n",
      "    36 |   1296 |  6.000\n",
      "    37 |   1369 |  6.083\n",
      "    38 |   1444 |  6.164\n",
      "    39 |   1521 |  6.245\n",
      "    40 |   1600 |  6.325\n",
      "    41 |   1681 |  6.403\n",
      "    42 |   1764 |  6.481\n",
      "    43 |   1849 |  6.557\n",
      "    44 |   1936 |  6.633\n",
      "    45 |   2025 |  6.708\n",
      "    46 |   2116 |  6.782\n",
      "    47 |   2209 |  6.856\n",
      "    48 |   2304 |  6.928\n",
      "    49 |   2401 |  7.000\n",
      "    50 |   2500 |  7.071\n",
      "    51 |   2601 |  7.141\n",
      "    52 |   2704 |  7.211\n",
      "    53 |   2809 |  7.280\n",
      "    54 |   2916 |  7.348\n",
      "    55 |   3025 |  7.416\n",
      "    56 |   3136 |  7.483\n",
      "    57 |   3249 |  7.550\n",
      "    58 |   3364 |  7.616\n",
      "    59 |   3481 |  7.681\n",
      "    60 |   3600 |  7.746\n",
      "    61 |   3721 |  7.810\n",
      "    62 |   3844 |  7.874\n",
      "    63 |   3969 |  7.937\n",
      "    64 |   4096 |  8.000\n",
      "    65 |   4225 |  8.062\n",
      "    66 |   4356 |  8.124\n",
      "    67 |   4489 |  8.185\n",
      "    68 |   4624 |  8.246\n",
      "    69 |   4761 |  8.307\n",
      "    70 |   4900 |  8.367\n",
      "    71 |   5041 |  8.426\n",
      "    72 |   5184 |  8.485\n",
      "    73 |   5329 |  8.544\n",
      "    74 |   5476 |  8.602\n",
      "    75 |   5625 |  8.660\n",
      "    76 |   5776 |  8.718\n",
      "    77 |   5929 |  8.775\n",
      "    78 |   6084 |  8.832\n",
      "    79 |   6241 |  8.888\n",
      "    80 |   6400 |  8.944\n",
      "    81 |   6561 |  9.000\n",
      "    82 |   6724 |  9.055\n",
      "    83 |   6889 |  9.110\n",
      "    84 |   7056 |  9.165\n",
      "    85 |   7225 |  9.220\n",
      "    86 |   7396 |  9.274\n",
      "    87 |   7569 |  9.327\n",
      "    88 |   7744 |  9.381\n",
      "    89 |   7921 |  9.434\n",
      "    90 |   8100 |  9.487\n",
      "    91 |   8281 |  9.539\n",
      "    92 |   8464 |  9.592\n",
      "    93 |   8649 |  9.644\n",
      "    94 |   8836 |  9.695\n",
      "    95 |   9025 |  9.747\n",
      "    96 |   9216 |  9.798\n",
      "    97 |   9409 |  9.849\n",
      "    98 |   9604 |  9.899\n",
      "    99 |   9801 |  9.950\n",
      "   100 |  10000 | 10.000\n"
     ]
    }
   ],
   "source": [
    "print('x, x^2, x^(1/2)')\n",
    "for key in squares_and_roots:\n",
    "    print(\"{key},{squares_and_roots[key]['square']},{squares_and_roots[key]['root']}\")"
   ]
  },
  {
   "cell_type": "markdown",
   "metadata": {},
   "source": [
    "## Files\n",
    "\n",
    "Files are objects you can *read* and *write* to.  There are 3 types of file objects (binary, buffered binary, and text) and we will focus mainly on [text files](https://docs.python.org/3/glossary.html#term-text-file).\n",
    "Text files are files objects that read and write `str` objects, that is sequences of characters.\n",
    "\n",
    "Before using a file you have to `open` a file handler using the `open` built-in function.\n",
    "Take a look at its documentation writing in a code cell one of the two following commands\n",
    "```python\n",
    "open?\n",
    "help(open)\n",
    "```"
   ]
  },
  {
   "cell_type": "code",
   "execution_count": 26,
   "metadata": {
    "scrolled": true
   },
   "outputs": [
    {
     "name": "stdout",
     "output_type": "stream",
     "text": [
      "Help on built-in function open in module io:\n",
      "\n",
      "open(file, mode='r', buffering=-1, encoding=None, errors=None, newline=None, closefd=True, opener=None)\n",
      "    Open file and return a stream.  Raise IOError upon failure.\n",
      "    \n",
      "    file is either a text or byte string giving the name (and the path\n",
      "    if the file isn't in the current working directory) of the file to\n",
      "    be opened or an integer file descriptor of the file to be\n",
      "    wrapped. (If a file descriptor is given, it is closed when the\n",
      "    returned I/O object is closed, unless closefd is set to False.)\n",
      "    \n",
      "    mode is an optional string that specifies the mode in which the file\n",
      "    is opened. It defaults to 'r' which means open for reading in text\n",
      "    mode.  Other common values are 'w' for writing (truncating the file if\n",
      "    it already exists), 'x' for creating and writing to a new file, and\n",
      "    'a' for appending (which on some Unix systems, means that all writes\n",
      "    append to the end of the file regardless of the current seek position).\n",
      "    In text mode, if encoding is not specified the encoding used is platform\n",
      "    dependent: locale.getpreferredencoding(False) is called to get the\n",
      "    current locale encoding. (For reading and writing raw bytes use binary\n",
      "    mode and leave encoding unspecified.) The available modes are:\n",
      "    \n",
      "    ========= ===============================================================\n",
      "    Character Meaning\n",
      "    --------- ---------------------------------------------------------------\n",
      "    'r'       open for reading (default)\n",
      "    'w'       open for writing, truncating the file first\n",
      "    'x'       create a new file and open it for writing\n",
      "    'a'       open for writing, appending to the end of the file if it exists\n",
      "    'b'       binary mode\n",
      "    't'       text mode (default)\n",
      "    '+'       open a disk file for updating (reading and writing)\n",
      "    'U'       universal newline mode (deprecated)\n",
      "    ========= ===============================================================\n",
      "    \n",
      "    The default mode is 'rt' (open for reading text). For binary random\n",
      "    access, the mode 'w+b' opens and truncates the file to 0 bytes, while\n",
      "    'r+b' opens the file without truncation. The 'x' mode implies 'w' and\n",
      "    raises an `FileExistsError` if the file already exists.\n",
      "    \n",
      "    Python distinguishes between files opened in binary and text modes,\n",
      "    even when the underlying operating system doesn't. Files opened in\n",
      "    binary mode (appending 'b' to the mode argument) return contents as\n",
      "    bytes objects without any decoding. In text mode (the default, or when\n",
      "    't' is appended to the mode argument), the contents of the file are\n",
      "    returned as strings, the bytes having been first decoded using a\n",
      "    platform-dependent encoding or using the specified encoding if given.\n",
      "    \n",
      "    'U' mode is deprecated and will raise an exception in future versions\n",
      "    of Python.  It has no effect in Python 3.  Use newline to control\n",
      "    universal newlines mode.\n",
      "    \n",
      "    buffering is an optional integer used to set the buffering policy.\n",
      "    Pass 0 to switch buffering off (only allowed in binary mode), 1 to select\n",
      "    line buffering (only usable in text mode), and an integer > 1 to indicate\n",
      "    the size of a fixed-size chunk buffer.  When no buffering argument is\n",
      "    given, the default buffering policy works as follows:\n",
      "    \n",
      "    * Binary files are buffered in fixed-size chunks; the size of the buffer\n",
      "      is chosen using a heuristic trying to determine the underlying device's\n",
      "      \"block size\" and falling back on `io.DEFAULT_BUFFER_SIZE`.\n",
      "      On many systems, the buffer will typically be 4096 or 8192 bytes long.\n",
      "    \n",
      "    * \"Interactive\" text files (files for which isatty() returns True)\n",
      "      use line buffering.  Other text files use the policy described above\n",
      "      for binary files.\n",
      "    \n",
      "    encoding is the name of the encoding used to decode or encode the\n",
      "    file. This should only be used in text mode. The default encoding is\n",
      "    platform dependent, but any encoding supported by Python can be\n",
      "    passed.  See the codecs module for the list of supported encodings.\n",
      "    \n",
      "    errors is an optional string that specifies how encoding errors are to\n",
      "    be handled---this argument should not be used in binary mode. Pass\n",
      "    'strict' to raise a ValueError exception if there is an encoding error\n",
      "    (the default of None has the same effect), or pass 'ignore' to ignore\n",
      "    errors. (Note that ignoring encoding errors can lead to data loss.)\n",
      "    See the documentation for codecs.register or run 'help(codecs.Codec)'\n",
      "    for a list of the permitted encoding error strings.\n",
      "    \n",
      "    newline controls how universal newlines works (it only applies to text\n",
      "    mode). It can be None, '', '\\n', '\\r', and '\\r\\n'.  It works as\n",
      "    follows:\n",
      "    \n",
      "    * On input, if newline is None, universal newlines mode is\n",
      "      enabled. Lines in the input can end in '\\n', '\\r', or '\\r\\n', and\n",
      "      these are translated into '\\n' before being returned to the\n",
      "      caller. If it is '', universal newline mode is enabled, but line\n",
      "      endings are returned to the caller untranslated. If it has any of\n",
      "      the other legal values, input lines are only terminated by the given\n",
      "      string, and the line ending is returned to the caller untranslated.\n",
      "    \n",
      "    * On output, if newline is None, any '\\n' characters written are\n",
      "      translated to the system default line separator, os.linesep. If\n",
      "      newline is '' or '\\n', no translation takes place. If newline is any\n",
      "      of the other legal values, any '\\n' characters written are translated\n",
      "      to the given string.\n",
      "    \n",
      "    If closefd is False, the underlying file descriptor will be kept open\n",
      "    when the file is closed. This does not work when a file name is given\n",
      "    and must be True in that case.\n",
      "    \n",
      "    A custom opener can be used by passing a callable as *opener*. The\n",
      "    underlying file descriptor for the file object is then obtained by\n",
      "    calling *opener* with (*file*, *flags*). *opener* must return an open\n",
      "    file descriptor (passing os.open as *opener* results in functionality\n",
      "    similar to passing None).\n",
      "    \n",
      "    open() returns a file object whose type depends on the mode, and\n",
      "    through which the standard file operations such as reading and writing\n",
      "    are performed. When open() is used to open a file in a text mode ('w',\n",
      "    'r', 'wt', 'rt', etc.), it returns a TextIOWrapper. When used to open\n",
      "    a file in a binary mode, the returned class varies: in read binary\n",
      "    mode, it returns a BufferedReader; in write binary and append binary\n",
      "    modes, it returns a BufferedWriter, and in read/write mode, it returns\n",
      "    a BufferedRandom.\n",
      "    \n",
      "    It is also possible to use a string or bytearray as a file for both\n",
      "    reading and writing. For strings StringIO can be used like a file\n",
      "    opened in a text mode, and for bytes a BytesIO can be used like a file\n",
      "    opened in a binary mode.\n",
      "\n"
     ]
    }
   ],
   "source": [
    "help(open)"
   ]
  },
  {
   "cell_type": "markdown",
   "metadata": {},
   "source": [
    "Please read carefully the second paragraph of the documentation (the one that starts with `mode is an optional string [...]`.  Please familiarize with modes `'r'`, `'w'`, and `'a'`."
   ]
  },
  {
   "cell_type": "markdown",
   "metadata": {},
   "source": [
    "#### 4.1) Read the file `PromessiSposi.txt` and save its content in a list."
   ]
  },
  {
   "cell_type": "code",
   "execution_count": 29,
   "metadata": {
    "scrolled": true
   },
   "outputs": [
    {
     "name": "stdout",
     "output_type": "stream",
     "text": [
      "Quel ramo del lago di Como, che volge a mezzogiorno, tra due catene non interrotte di monti, tutto a seni e a golfi, a seconda dello sporgere e del rientrare di quelli, vien, quasi a un tratto, a ristringersi, e a prender corso e figura di fiume, tra un promontorio a destra, e un'ampia costiera dall'altra parte; e il ponte, che ivi congiunge le due rive, par che renda ancor più sensibile all'occhio questa trasformazione, e segni il punto in cui il lago cessa, e l'Adda rincomincia, per ripigliar poi nome di lago dove le rive, allontanandosi di nuovo, lascian l'acqua distendersi e rallentarsi in nuovi golfi e in nuovi seni. La costiera, formata dal deposito di tre grossi torrenti, scende appoggiata a due monti contigui, l'uno detto di san Martino, l'altro, con voce lombarda, il Resegone, dai molti suoi cocuzzoli in fila, che in vero lo fanno somigliare a una sega: talché non è chi, al primo vederlo, purché sia di fronte, come per esempio di su le mura di Milano che guardano a settentrione, non lo discerna tosto, a un tal contrassegno, in quella lunga e vasta giogaia, dagli altri monti di nome più oscuro e di forma più comune. Per un buon pezzo, la costa sale con un pendìo lento e continuo; poi si rompe in poggi e in valloncelli, in erte e in ispianate, secondo l'ossatura de' due monti, e il lavoro dell'acque. Il lembo estremo, tagliato dalle foci de' torrenti, è quasi tutto ghiaia e ciottoloni; il resto, campi e vigne, sparse di terre, di ville, di casali; in qualche parte boschi, che si prolungano su per la montagna. Lecco, la principale di quelle terre, e che dà nome al territorio, giace poco discosto dal ponte, alla riva del lago, anzi viene in parte a trovarsi nel lago stesso, quando questo ingrossa: un gran borgo al giorno d'oggi, e che s'incammina a diventar città. Ai tempi in cui accaddero i fatti che prendiamo a raccontare, quel borgo, già considerabile, era anche un castello, e aveva perciò l'onore d'alloggiare un comandante, e il vantaggio di possedere una stabile guarnigione di soldati spagnoli, che insegnavan la modestia alle fanciulle e alle donne del paese, accarezzavan di tempo in tempo le spalle a qualche marito, a qualche padre; e, sul finir dell'estate, non mancavan mai di spandersi nelle vigne, per diradar l'uve, e alleggerire a' contadini le fatiche della vendemmia. Dall'una all'altra di quelle terre, dall'alture alla riva, da un poggio all'altro, correvano, e corrono tuttavia, strade e stradette, più o men ripide, o piane; ogni tanto affondate, sepolte tra due muri, donde, alzando lo sguardo, non iscoprite che un pezzo di cielo e qualche vetta di monte; ogni tanto elevate su terrapieni aperti: e da qui la vista spazia per prospetti più o meno estesi, ma ricchi sempre e sempre qualcosa nuovi, secondo che i diversi punti piglian più o meno della vasta scena circostante, e secondo che questa o quella parte campeggia o si scorcia, spunta o sparisce a vicenda. Dove un pezzo, dove un altro, dove una lunga distesa di quel vasto e variato specchio dell'acqua; di qua lago, chiuso all'estremità o piùttosto smarrito in un gruppo, in un andirivieni di montagne, e di mano in mano più allargato tra altri monti che si spiegano, a uno a uno, allo sguardo, e che l'acqua riflette capovolti, co' paesetti posti sulle rive; di là braccio di fiume, poi lago, poi fiume ancora, che va a perdersi in lucido serpeggiamento pur tra' monti che l'accompagnano, degradando via via, e perdendosi quasi anch'essi nell'orizzonte. Il luogo stesso da dove contemplate que' vari spettacoli, vi fa spettacolo da ogni parte: il monte di cui passeggiate le falde, vi svolge, al di sopra, d'intorno, le sue cime e le balze, distinte, rilevate, mutabili quasi a ogni passo, aprendosi e contornandosi in gioghi ciò che v'era sembrato prima un sol giogo, e comparendo in vetta ciò che poco innanzi vi si rappresentava sulla costa: e l'ameno, il domestico di quelle falde tempera gradevolmente il selvaggio, e orna vie più il magnifico dell'altre vedute.\n",
      "\n",
      "Per una di queste stradicciole, tornava bel bello dalla passeggiata verso casa, sulla sera del giorno 7 novembre dell'anno 1628, don Abbondio, curato d'una delle terre accennate di sopra: il nome di questa, né il casato del personaggio, non si trovan nel manoscritto, né a questo luogo né altrove. Diceva tranquillamente il suo ufizio, e talvolta, tra un salmo e l'altro, chiudeva il breviario, tenendovi dentro, per segno, l'indice della mano destra, e, messa poi questa nell'altra dietro la schiena, proseguiva il suo cammino, guardando a terra, e buttando con un piede verso il muro i ciottoli che facevano inciampo nel sentiero: poi alzava il viso, e, girati oziosamente gli occhi all'intorno, li fissava alla parte d'un monte, dove la luce del sole già scomparso, scappando per i fessi del monte opposto, si dipingeva qua e là sui massi sporgenti, come a larghe e inuguali pezze di porpora. Aperto poi di nuovo il breviario, e recitato un altro squarcio, giunse a una voltata della stradetta, dov'era solito d'alzar sempre gli occhi dal libro, e di guardarsi dinanzi: e così fece anche quel giorno. Dopo la voltata, la strada correva diritta, forse un sessanta passi, e poi si divideva in due viottole, a foggia d'un ipsilon: quella a destra saliva verso il monte, e menava alla cura: l'altra scendeva nella valle fino a un torrente; e da questa parte il muro non arrivava che all'anche del passeggiero. I muri interni delle due viottole, in vece di riunirsi ad angolo, terminavano in un tabernacolo, sul quale eran dipinte certe figure lunghe, serpeggianti, che finivano in punta, e che, nell'intenzion dell'artista, e agli occhi degli abitanti del vicinato, volevan dir fiamme; e, alternate con le fiamme, cert'altre figure da non potersi descrivere, che volevan dire anime del purgatorio: anime e fiamme a color di mattone, sur un fondo bigiognolo, con qualche scalcinatura qua e là. Il curato, voltata la stradetta, e dirizzando, com'era solito, lo sguardo al tabernacolo, vide una cosa che non s'aspettava, e che non avrebbe voluto vedere. Due uomini stavano, l'uno dirimpetto all'altro, al confluente, per dir così, delle due viottole: un di costoro, a cavalcioni sul muricciolo basso, con una gamba spenzolata al di fuori, e l'altro piede posato sul terreno della strada; il compagno, in piedi, appoggiato al muro, con le braccia incrociate sul petto. L'abito, il portamento, e quello che, dal luogo ov'era giunto il curato, si poteva distinguer dell'aspetto, non lasciavan dubbio intorno alla lor condizione. Avevano entrambi intorno al capo una reticella verde, che cadeva sull'omero sinistro, terminata in una gran nappa, e dalla quale usciva sulla fronte un enorme ciuffo: due lunghi mustacchi arricciati in punta: una cintura lucida di cuoio, e a quella attaccate due pistole: un piccol corno ripieno di polvere, cascante sul petto, come una collana: un manico di coltellaccio che spuntava fuori d'un taschino degli ampi e gonfi calzoni: uno spadone, con una gran guardia traforata a lamine d'ottone, congegnate come in cifra, forbite e lucenti: a prima vista si davano a conoscere per individui della specie de' bravi.\n",
      "\n"
     ]
    }
   ],
   "source": [
    "with open(\"ex-data/PromessiSposi.txt\", \"r\") as fin:\n",
    "    ps_paragraphs=fin.reads()\n",
    "print(ps_paragraphs[0])\n",
    "print(ps_paragraphs[1])"
   ]
  },
  {
   "cell_type": "markdown",
   "metadata": {},
   "source": [
    "#### 4.2) Note that each element of the list ends with `\\n`.  What is that? "
   ]
  },
  {
   "cell_type": "markdown",
   "metadata": {},
   "source": [
    "`\\n` represents a newline character."
   ]
  },
  {
   "cell_type": "markdown",
   "metadata": {},
   "source": [
    "#### 4.3) Re-read the file `PromessiSposi.txt` and use [`strip`](https://docs.python.org/2/library/string.html#string.strip) to remove the trailing character (store the lines in a list)."
   ]
  },
  {
   "cell_type": "code",
   "execution_count": 30,
   "metadata": {
    "scrolled": true
   },
   "outputs": [
    {
     "name": "stdout",
     "output_type": "stream",
     "text": [
      "Quel ramo del lago di Como, che volge a mezzogiorno, tra due catene non interrotte di monti, tutto a seni e a golfi, a seconda dello sporgere e del rientrare di quelli, vien, quasi a un tratto, a ristringersi, e a prender corso e figura di fiume, tra un promontorio a destra, e un'ampia costiera dall'altra parte; e il ponte, che ivi congiunge le due rive, par che renda ancor più sensibile all'occhio questa trasformazione, e segni il punto in cui il lago cessa, e l'Adda rincomincia, per ripigliar poi nome di lago dove le rive, allontanandosi di nuovo, lascian l'acqua distendersi e rallentarsi in nuovi golfi e in nuovi seni. La costiera, formata dal deposito di tre grossi torrenti, scende appoggiata a due monti contigui, l'uno detto di san Martino, l'altro, con voce lombarda, il Resegone, dai molti suoi cocuzzoli in fila, che in vero lo fanno somigliare a una sega: talché non è chi, al primo vederlo, purché sia di fronte, come per esempio di su le mura di Milano che guardano a settentrione, non lo discerna tosto, a un tal contrassegno, in quella lunga e vasta giogaia, dagli altri monti di nome più oscuro e di forma più comune. Per un buon pezzo, la costa sale con un pendìo lento e continuo; poi si rompe in poggi e in valloncelli, in erte e in ispianate, secondo l'ossatura de' due monti, e il lavoro dell'acque. Il lembo estremo, tagliato dalle foci de' torrenti, è quasi tutto ghiaia e ciottoloni; il resto, campi e vigne, sparse di terre, di ville, di casali; in qualche parte boschi, che si prolungano su per la montagna. Lecco, la principale di quelle terre, e che dà nome al territorio, giace poco discosto dal ponte, alla riva del lago, anzi viene in parte a trovarsi nel lago stesso, quando questo ingrossa: un gran borgo al giorno d'oggi, e che s'incammina a diventar città. Ai tempi in cui accaddero i fatti che prendiamo a raccontare, quel borgo, già considerabile, era anche un castello, e aveva perciò l'onore d'alloggiare un comandante, e il vantaggio di possedere una stabile guarnigione di soldati spagnoli, che insegnavan la modestia alle fanciulle e alle donne del paese, accarezzavan di tempo in tempo le spalle a qualche marito, a qualche padre; e, sul finir dell'estate, non mancavan mai di spandersi nelle vigne, per diradar l'uve, e alleggerire a' contadini le fatiche della vendemmia. Dall'una all'altra di quelle terre, dall'alture alla riva, da un poggio all'altro, correvano, e corrono tuttavia, strade e stradette, più o men ripide, o piane; ogni tanto affondate, sepolte tra due muri, donde, alzando lo sguardo, non iscoprite che un pezzo di cielo e qualche vetta di monte; ogni tanto elevate su terrapieni aperti: e da qui la vista spazia per prospetti più o meno estesi, ma ricchi sempre e sempre qualcosa nuovi, secondo che i diversi punti piglian più o meno della vasta scena circostante, e secondo che questa o quella parte campeggia o si scorcia, spunta o sparisce a vicenda. Dove un pezzo, dove un altro, dove una lunga distesa di quel vasto e variato specchio dell'acqua; di qua lago, chiuso all'estremità o piùttosto smarrito in un gruppo, in un andirivieni di montagne, e di mano in mano più allargato tra altri monti che si spiegano, a uno a uno, allo sguardo, e che l'acqua riflette capovolti, co' paesetti posti sulle rive; di là braccio di fiume, poi lago, poi fiume ancora, che va a perdersi in lucido serpeggiamento pur tra' monti che l'accompagnano, degradando via via, e perdendosi quasi anch'essi nell'orizzonte. Il luogo stesso da dove contemplate que' vari spettacoli, vi fa spettacolo da ogni parte: il monte di cui passeggiate le falde, vi svolge, al di sopra, d'intorno, le sue cime e le balze, distinte, rilevate, mutabili quasi a ogni passo, aprendosi e contornandosi in gioghi ciò che v'era sembrato prima un sol giogo, e comparendo in vetta ciò che poco innanzi vi si rappresentava sulla costa: e l'ameno, il domestico di quelle falde tempera gradevolmente il selvaggio, e orna vie più il magnifico dell'altre vedute.\n",
      "Per una di queste stradicciole, tornava bel bello dalla passeggiata verso casa, sulla sera del giorno 7 novembre dell'anno 1628, don Abbondio, curato d'una delle terre accennate di sopra: il nome di questa, né il casato del personaggio, non si trovan nel manoscritto, né a questo luogo né altrove. Diceva tranquillamente il suo ufizio, e talvolta, tra un salmo e l'altro, chiudeva il breviario, tenendovi dentro, per segno, l'indice della mano destra, e, messa poi questa nell'altra dietro la schiena, proseguiva il suo cammino, guardando a terra, e buttando con un piede verso il muro i ciottoli che facevano inciampo nel sentiero: poi alzava il viso, e, girati oziosamente gli occhi all'intorno, li fissava alla parte d'un monte, dove la luce del sole già scomparso, scappando per i fessi del monte opposto, si dipingeva qua e là sui massi sporgenti, come a larghe e inuguali pezze di porpora. Aperto poi di nuovo il breviario, e recitato un altro squarcio, giunse a una voltata della stradetta, dov'era solito d'alzar sempre gli occhi dal libro, e di guardarsi dinanzi: e così fece anche quel giorno. Dopo la voltata, la strada correva diritta, forse un sessanta passi, e poi si divideva in due viottole, a foggia d'un ipsilon: quella a destra saliva verso il monte, e menava alla cura: l'altra scendeva nella valle fino a un torrente; e da questa parte il muro non arrivava che all'anche del passeggiero. I muri interni delle due viottole, in vece di riunirsi ad angolo, terminavano in un tabernacolo, sul quale eran dipinte certe figure lunghe, serpeggianti, che finivano in punta, e che, nell'intenzion dell'artista, e agli occhi degli abitanti del vicinato, volevan dir fiamme; e, alternate con le fiamme, cert'altre figure da non potersi descrivere, che volevan dire anime del purgatorio: anime e fiamme a color di mattone, sur un fondo bigiognolo, con qualche scalcinatura qua e là. Il curato, voltata la stradetta, e dirizzando, com'era solito, lo sguardo al tabernacolo, vide una cosa che non s'aspettava, e che non avrebbe voluto vedere. Due uomini stavano, l'uno dirimpetto all'altro, al confluente, per dir così, delle due viottole: un di costoro, a cavalcioni sul muricciolo basso, con una gamba spenzolata al di fuori, e l'altro piede posato sul terreno della strada; il compagno, in piedi, appoggiato al muro, con le braccia incrociate sul petto. L'abito, il portamento, e quello che, dal luogo ov'era giunto il curato, si poteva distinguer dell'aspetto, non lasciavan dubbio intorno alla lor condizione. Avevano entrambi intorno al capo una reticella verde, che cadeva sull'omero sinistro, terminata in una gran nappa, e dalla quale usciva sulla fronte un enorme ciuffo: due lunghi mustacchi arricciati in punta: una cintura lucida di cuoio, e a quella attaccate due pistole: un piccol corno ripieno di polvere, cascante sul petto, come una collana: un manico di coltellaccio che spuntava fuori d'un taschino degli ampi e gonfi calzoni: uno spadone, con una gran guardia traforata a lamine d'ottone, congegnate come in cifra, forbite e lucenti: a prima vista si davano a conoscere per individui della specie de' bravi.\n"
     ]
    }
   ],
   "source": [
    "with open(\"ex-data/PromessiSposi.txt\", \"r\") as fin:\n",
    "    ps_paragraphs=fin.reads()\n",
    "\n",
    "clean_lines = []\n",
    "for line in ps_paragraphs:\n",
    "    clean_lines.append(line.strip('\\n'))\n",
    "\n",
    "print(ps_paragraphs[0])\n",
    "print(ps_paragraphs[1])"
   ]
  },
  {
   "cell_type": "markdown",
   "metadata": {},
   "source": [
    "#### 4.4) Create a dictionary `promised_words` that maps each distinct word in `PromessiSposi.txt` to the number of times it appears in it.  Use [`split`](https://docs.python.org/2/library/stdtypes.html#str.split)."
   ]
  },
  {
   "cell_type": "code",
   "execution_count": 36,
   "metadata": {},
   "outputs": [
    {
     "name": "stdout",
     "output_type": "stream",
     "text": [
      "1\n",
      "4\n"
     ]
    }
   ],
   "source": [
    "promised_words = {}\n",
    "for line in ps_paragraphs:\n",
    "    word_list = line.split()\n",
    "    for word in word_list:\n",
    "        if word not in promised_words:\n",
    "            promised_words[word] = 1\n",
    "        else:\n",
    "            promised_words[word] += 1\n",
    "\n",
    "print(promised_words[\"Abbondio\"])\n",
    "print(promised_words[\"lago\"])"
   ]
  },
  {
   "cell_type": "markdown",
   "metadata": {},
   "source": [
    "#### 4.5) Create a file 'words_occurrences.txt' and write each distinct word of 'PromessiSposi.txt' alongside the number of occurrences of such word."
   ]
  },
  {
   "cell_type": "code",
   "execution_count": 37,
   "metadata": {},
   "outputs": [],
   "source": [
    "with open(\"words_occurrences.txt\", \"w\") as fout:\n",
    "    for word in promised_words:\n",
    "        fout.write(f\"word: {word} - occurrences: {promised_words[word]}\\n\")"
   ]
  },
  {
   "cell_type": "code",
   "execution_count": 38,
   "metadata": {},
   "outputs": [
    {
     "name": "stdout",
     "output_type": "stream",
     "text": [
      "word: Quel - occurrences: 1\r\n",
      "word: ramo - occurrences: 1\r\n",
      "word: del - occurrences: 19\r\n",
      "word: lago - occurrences: 4\r\n",
      "word: di - occurrences: 108\r\n",
      "word: Como, - occurrences: 1\r\n",
      "word: che - occurrences: 52\r\n",
      "word: volge - occurrences: 1\r\n",
      "word: a - occurrences: 60\r\n",
      "word: mezzogiorno, - occurrences: 1\r\n"
     ]
    }
   ],
   "source": [
    "!head words_occurrences.txt "
   ]
  },
  {
   "cell_type": "markdown",
   "metadata": {},
   "source": [
    "## Libraries\n",
    "\n",
    "The [Python Standard Library](https://docs.python.org/3/library/) is a powerful help that provides many useful functionalities.\n",
    "Before using the functions of the Python Standard it is required to `import` the corresponding module.\n",
    "For example, if you want to use [`math.floor`](https://docs.python.org/3/library/math.html#math.floor) you'll have to import the `math` module before using it.\n",
    "\n",
    "There are (at least) three main ways to import functionalities from the Python Standard Library.\n",
    "\n",
    "1) Import the whole module\n",
    "```python\n",
    "import math\n",
    "math.floor(3/2)\n",
    "```\n",
    "2) Import the whole module and rename it\n",
    "```python\n",
    "import math as cool_stuff\n",
    "cool_stuff.floor(3/2)\n",
    "```\n",
    "\n",
    "3) Import all the functions of a module\n",
    "```python\n",
    "from math import *\n",
    "floor(3/2)\n",
    "```\n",
    "\n",
    "**Nevertheless, [it is usually NOT a good idea to `import *`](https://stackoverflow.com/questions/2386714/why-is-import-bad) so avoid using method 3.**"
   ]
  },
  {
   "cell_type": "markdown",
   "metadata": {},
   "source": [
    "#### 5.1) The [random modules](https://docs.python.org/3/library/random.html#module-random) implements pseudo-random number generators and provides functionalities to pick random elements from a sequence.  Use this module to select 3 Star Wars movies from `sw_movies` and print them. Hint: read the documentation of `random.sample`."
   ]
  },
  {
   "cell_type": "code",
   "execution_count": 39,
   "metadata": {},
   "outputs": [
    {
     "name": "stdout",
     "output_type": "stream",
     "text": [
      "['Attack of the Clones', 'Revenge of the Sith', 'Return of the Jedi']\n"
     ]
    }
   ],
   "source": [
    "import random\n",
    "selected_movies = random.sample(sw_movies, 3)\n",
    "print(selected_movies)"
   ]
  },
  {
   "cell_type": "markdown",
   "metadata": {},
   "source": [
    "#### 5.2) Almost nobody likes \"The Phantom Menace\", pick 3 random Star Wars movies from `sw_movies` and store them in `my_favorite_sw_movies` until \"The Phantom Menace\" is not in `my_favorite_sw_movies`."
   ]
  },
  {
   "cell_type": "code",
   "execution_count": 40,
   "metadata": {},
   "outputs": [
    {
     "name": "stdout",
     "output_type": "stream",
     "text": [
      "Selection: ['A New Hope', 'The Empire Strikes Back', 'The Phantom Menace'], let's retry\n",
      "The Phantom Menace avoided! Movies selected: ['The Last Jedi', 'Revenge of the Sith', 'Return of the Jedi']\n"
     ]
    }
   ],
   "source": [
    "selected_movies = []\n",
    "while True:\n",
    "    selected_movies = random.sample(sw_movies, 3)\n",
    "    if \"The Phantom Menace\" not in selected_movies:\n",
    "        break\n",
    "    else:\n",
    "        print(f\"Selection: {selected_movies}, let's retry\")\n",
    "print(\"The Phantom Menace avoided! Movies selected: {selected_movies}\")"
   ]
  },
  {
   "cell_type": "markdown",
   "metadata": {},
   "source": [
    "Clearly, each execution of the cell can produce a different result."
   ]
  },
  {
   "cell_type": "markdown",
   "metadata": {},
   "source": [
    "# Functions\n",
    "\n",
    "\"In the context of programming, a function is a named sequence of statements that performs a computation. When you define a function, you specify the name and the sequence of statements. Later, you can “call” the function by name\" (see [Think in Python - Chapter 3](http://greenteapress.com/thinkpython2/html/thinkpython2004.html)).\n",
    "\n",
    "Defining and writing functions if fundamental to avoid building complex (and bug-prone!) software.\n",
    "A function looks something like this\n",
    "```python\n",
    "def func_name(x, y=3):\n",
    "\t# Do whatever we want this function to do,\n",
    "\t#  using x and y.\n",
    "\n",
    "# Use func_name to call the function.\n",
    "func_name(value_1, value_2)\n",
    "\n",
    "# Use func_name to call the function, without setting y.\n",
    "# y will be equal to 3 (default value)\n",
    "func_name(value_1)\n",
    "\n",
    "```\n",
    "\n",
    "Remember that you have to define function **before** using them or your software will crash."
   ]
  },
  {
   "cell_type": "markdown",
   "metadata": {},
   "source": [
    "#### 6.1) Complete the function `my_split_with_counts` that accepts a string `s` and returns a dictionary whose keys are the unique words in `s` and whose values are the number of occurrences of the key in `s`."
   ]
  },
  {
   "cell_type": "code",
   "execution_count": 41,
   "metadata": {},
   "outputs": [],
   "source": [
    "def my_split_with_counts(sequence):\n",
    "    words_dict = {}\n",
    "    for word in sequence.split(' '):\n",
    "        if word not in words_dict:\n",
    "            words_dict[word] = 1\n",
    "        else:\n",
    "            words_dict[word] += 1\n",
    "    return words_dict"
   ]
  },
  {
   "cell_type": "code",
   "execution_count": 42,
   "metadata": {
    "scrolled": false
   },
   "outputs": [
    {
     "data": {
      "text/plain": [
       "{'Apelle': 2,\n",
       " 'Apollo': 2,\n",
       " 'a': 1,\n",
       " 'da': 1,\n",
       " 'di': 6,\n",
       " 'fatta': 1,\n",
       " 'fece': 1,\n",
       " 'figlio': 2,\n",
       " 'galla': 1,\n",
       " 'i': 1,\n",
       " 'la': 1,\n",
       " 'palla': 2,\n",
       " 'pelle': 2,\n",
       " 'per': 1,\n",
       " 'pesci': 1,\n",
       " 'pollo': 2,\n",
       " 'tutti': 1,\n",
       " 'una': 1,\n",
       " 'vedere': 1,\n",
       " 'vennero': 1}"
      ]
     },
     "execution_count": 42,
     "metadata": {},
     "output_type": "execute_result"
    }
   ],
   "source": [
    "my_split_with_counts(\"Apelle figlio di Apollo fece una palla di pelle di pollo \\\n",
    "tutti i pesci vennero a galla per vedere la palla di pelle di pollo \\\n",
    "fatta da Apelle figlio di Apollo\")"
   ]
  },
  {
   "cell_type": "markdown",
   "metadata": {},
   "source": [
    "#### 6.2) Write a function `random_sample_avoid_element` that accepts a list `L`, a number `k`, and an element `e`, and returns a list of `k` elements of `L` that does not contain `e`."
   ]
  },
  {
   "cell_type": "code",
   "execution_count": 43,
   "metadata": {},
   "outputs": [
    {
     "name": "stdout",
     "output_type": "stream",
     "text": [
      "['mamma', 'mi', 'come']\n"
     ]
    }
   ],
   "source": [
    "def random_sample_avoid_element(L, k, e):\n",
    "    sampled_elements = []\n",
    "    while True:\n",
    "        sampled_elements = random.sample(L, 3)\n",
    "        if e not in sampled_elements:\n",
    "            return sampled_elements\n",
    "\n",
    "print(random_sample_avoid_element(['ciao', 'mamma', 'guarda', 'come', 'mi', 'diverto'], 3,\n",
    "                                  'diverto'))"
   ]
  },
  {
   "cell_type": "markdown",
   "metadata": {},
   "source": [
    "#### 6.3) Use `random_sample_avoid_element` to solve exercise 5.2"
   ]
  },
  {
   "cell_type": "code",
   "execution_count": 46,
   "metadata": {},
   "outputs": [
    {
     "name": "stdout",
     "output_type": "stream",
     "text": [
      "The Phantom Menace avoided! Movies selected: ['A New Hope', 'The Force Awakens', 'Revenge of the Sith']\n"
     ]
    }
   ],
   "source": [
    "pm_avoided_list = random_sample_avoid_element(sw_movies, 3, \"The Phantom Menace\")\n",
    "print(\"The Phantom Menace avoided! Movies selected: {}\".format(pm_avoided_list))"
   ]
  },
  {
   "cell_type": "markdown",
   "metadata": {},
   "source": [
    "#### 6.4) Implement the `square_root_is_odd` function that returns `True` if the square root of the argument is odd, or `False` otherwise."
   ]
  },
  {
   "cell_type": "code",
   "execution_count": null,
   "metadata": {},
   "outputs": [],
   "source": [
    "import math\n",
    "def square_root_is_odd(value):\n",
    "    if math.floor(value ** (1/2)) % 2 == 1:\n",
    "        return True\n",
    "    else:\n",
    "        return False\n",
    "\n",
    "print(square_root_is_odd(16))\n",
    "print(square_root_is_odd(81))"
   ]
  }
 ],
 "metadata": {
  "kernelspec": {
   "display_name": "Python 3",
   "language": "python",
   "name": "python3"
  },
  "language_info": {
   "codemirror_mode": {
    "name": "ipython",
    "version": 3
   },
   "file_extension": ".py",
   "mimetype": "text/x-python",
   "name": "python",
   "nbconvert_exporter": "python",
   "pygments_lexer": "ipython3",
   "version": "3.7.4"
  }
 },
 "nbformat": 4,
 "nbformat_minor": 2
}
