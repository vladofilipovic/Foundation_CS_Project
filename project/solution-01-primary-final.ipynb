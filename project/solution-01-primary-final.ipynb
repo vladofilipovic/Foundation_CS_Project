{
 "cells": [
  {
   "cell_type": "markdown",
   "metadata": {},
   "source": [
    "# Project Solution - Primary\n",
    "\n",
    "You have to work on the [Kiva](https://drive.google.com/file/d/1-tJtnIbo1Rt-F1XfoWGVkmBXiI-ciuRx/view) dataset. Some information on the datasets are on the [Kaggle](https://www.kaggle.com/gaborfodor/additional-kiva-snapshot) web page."
   ]
  },
  {
   "cell_type": "markdown",
   "metadata": {},
   "source": [
    "## Basic tasks\n",
    "\n",
    "**1.** Normalize the `loan_lenders` table. In the normalized table, each row must have one `loan_id` and one `lender`."
   ]
  },
  {
   "cell_type": "markdown",
   "metadata": {},
   "source": [
    "Firstly, csv file is read and data frame with unnormalized data is created:"
   ]
  },
  {
   "cell_type": "code",
   "execution_count": 1,
   "metadata": {},
   "outputs": [
    {
     "name": "stdout",
     "output_type": "stream",
     "text": [
      "--- 4.1969993114471436 seconds ---\n"
     ]
    },
    {
     "data": {
      "text/html": [
       "<div>\n",
       "<style scoped>\n",
       "    .dataframe tbody tr th:only-of-type {\n",
       "        vertical-align: middle;\n",
       "    }\n",
       "\n",
       "    .dataframe tbody tr th {\n",
       "        vertical-align: top;\n",
       "    }\n",
       "\n",
       "    .dataframe thead th {\n",
       "        text-align: right;\n",
       "    }\n",
       "</style>\n",
       "<table border=\"1\" class=\"dataframe\">\n",
       "  <thead>\n",
       "    <tr style=\"text-align: right;\">\n",
       "      <th></th>\n",
       "      <th>loan_id</th>\n",
       "      <th>lenders</th>\n",
       "    </tr>\n",
       "  </thead>\n",
       "  <tbody>\n",
       "    <tr>\n",
       "      <td>0</td>\n",
       "      <td>483693</td>\n",
       "      <td>muc888, sam4326, camaran3922, lachheb1865, reb...</td>\n",
       "    </tr>\n",
       "    <tr>\n",
       "      <td>1</td>\n",
       "      <td>483738</td>\n",
       "      <td>muc888, nora3555, williammanashi, barbara5610,...</td>\n",
       "    </tr>\n",
       "    <tr>\n",
       "      <td>2</td>\n",
       "      <td>485000</td>\n",
       "      <td>muc888, terrystl, richardandsusan8352, sherri4...</td>\n",
       "    </tr>\n",
       "    <tr>\n",
       "      <td>3</td>\n",
       "      <td>486087</td>\n",
       "      <td>muc888, james5068, rudi5955, daniel9859, don92...</td>\n",
       "    </tr>\n",
       "    <tr>\n",
       "      <td>4</td>\n",
       "      <td>534428</td>\n",
       "      <td>muc888, niki3008, teresa9174, mike4896, david7...</td>\n",
       "    </tr>\n",
       "    <tr>\n",
       "      <td>...</td>\n",
       "      <td>...</td>\n",
       "      <td>...</td>\n",
       "    </tr>\n",
       "    <tr>\n",
       "      <td>1387427</td>\n",
       "      <td>678999</td>\n",
       "      <td>michael43411218, carol5987, gooddogg1, chris41...</td>\n",
       "    </tr>\n",
       "    <tr>\n",
       "      <td>1387428</td>\n",
       "      <td>1207353</td>\n",
       "      <td>rjhoward1986, jeffrey6870, trolltech4460, elys...</td>\n",
       "    </tr>\n",
       "    <tr>\n",
       "      <td>1387429</td>\n",
       "      <td>1206220</td>\n",
       "      <td>vicky7746, gooddogg1, fairspirit, craig9729960...</td>\n",
       "    </tr>\n",
       "    <tr>\n",
       "      <td>1387430</td>\n",
       "      <td>1206425</td>\n",
       "      <td>rich6705, sergiiy9766, angela7509, barbara5610...</td>\n",
       "    </tr>\n",
       "    <tr>\n",
       "      <td>1387431</td>\n",
       "      <td>1206486</td>\n",
       "      <td>alan5175, amy38101311</td>\n",
       "    </tr>\n",
       "  </tbody>\n",
       "</table>\n",
       "<p>1387432 rows × 2 columns</p>\n",
       "</div>"
      ],
      "text/plain": [
       "         loan_id                                            lenders\n",
       "0         483693  muc888, sam4326, camaran3922, lachheb1865, reb...\n",
       "1         483738  muc888, nora3555, williammanashi, barbara5610,...\n",
       "2         485000  muc888, terrystl, richardandsusan8352, sherri4...\n",
       "3         486087  muc888, james5068, rudi5955, daniel9859, don92...\n",
       "4         534428  muc888, niki3008, teresa9174, mike4896, david7...\n",
       "...          ...                                                ...\n",
       "1387427   678999  michael43411218, carol5987, gooddogg1, chris41...\n",
       "1387428  1207353  rjhoward1986, jeffrey6870, trolltech4460, elys...\n",
       "1387429  1206220  vicky7746, gooddogg1, fairspirit, craig9729960...\n",
       "1387430  1206425  rich6705, sergiiy9766, angela7509, barbara5610...\n",
       "1387431  1206486                              alan5175, amy38101311\n",
       "\n",
       "[1387432 rows x 2 columns]"
      ]
     },
     "execution_count": 1,
     "metadata": {},
     "output_type": "execute_result"
    }
   ],
   "source": [
    "import pandas as pd\n",
    "import numpy as np\n",
    "import time as tm\n",
    "FINAL = True # This is final calculation, on complete data\n",
    "start_time = tm.time()\n",
    "loans_lenders_un = pd.read_csv('../../Datasets/kiva/loans_lenders.csv')\n",
    "if not FINAL:\n",
    "    loans_lenders_un = loans_lenders_un.head(10000) \n",
    "print(\"--- %s seconds ---\" % (tm.time()-start_time)) \n",
    "loans_lenders_un"
   ]
  },
  {
   "cell_type": "markdown",
   "metadata": {},
   "source": [
    "Data frame with structured data will be created with help of intermediate object - list of pairs (loan_id, lender) packed in the dictionary:"
   ]
  },
  {
   "cell_type": "code",
   "execution_count": null,
   "metadata": {},
   "outputs": [],
   "source": [
    "import time as tm\n",
    "start_time = tm.time()\n",
    "lis = []\n",
    "for index, row in loans_lenders_un.iterrows(): \n",
    "    ls = row['lenders'].split(',')\n",
    "    for l in ls:\n",
    "        lis.append({ 'loan_id' : row['loan_id'], 'lender': l.strip() })\n",
    "loans_lender = pd.DataFrame(lis) \n",
    "print(\"--- %s seconds ---\" % (tm.time()-start_time)) \n",
    "loans_lender "
   ]
  },
  {
   "cell_type": "markdown",
   "metadata": {},
   "source": [
    "**2.** For each loan, add a column `duration` corresponding to the number of days between the disburse time and the planned expiration time. If any of those two dates is missing, also the duration must be missing."
   ]
  },
  {
   "cell_type": "markdown",
   "metadata": {},
   "source": [
    "Firstly, data frame should be loaded and structure of the data frame `loans` should be determined:"
   ]
  },
  {
   "cell_type": "code",
   "execution_count": null,
   "metadata": {
    "scrolled": true
   },
   "outputs": [],
   "source": [
    "import pandas as pd\n",
    "import numpy as np\n",
    "import time as tm\n",
    "start_time = tm.time()\n",
    "loans = pd.read_csv('../../Datasets/kiva/loans.csv')\n",
    "print(\"--- %s seconds ---\" % (tm.time()-start_time)) \n",
    "loans.columns"
   ]
  },
  {
   "cell_type": "markdown",
   "metadata": {},
   "source": [
    "After thar, values from the data frame should be displayed:"
   ]
  },
  {
   "cell_type": "code",
   "execution_count": null,
   "metadata": {
    "scrolled": true
   },
   "outputs": [],
   "source": [
    "if not FINAL:\n",
    "    loans = loans.head(20000)\n",
    "loans"
   ]
  },
  {
   "cell_type": "markdown",
   "metadata": {},
   "source": [
    "We are now mainly interested in columns 'planned_expiration_time', 'disburse_time':"
   ]
  },
  {
   "cell_type": "code",
   "execution_count": null,
   "metadata": {},
   "outputs": [],
   "source": [
    "loans_sel = loans[ ['loan_id', 'loan_name','planned_expiration_time', 'disburse_time'] ]\n",
    "loans_sel"
   ]
  },
  {
   "cell_type": "code",
   "execution_count": null,
   "metadata": {
    "scrolled": true
   },
   "outputs": [],
   "source": [
    "from datetime import datetime as dt\n",
    "import time as tm\n",
    "start_time = tm.time()\n",
    "loans['duration'] = None\n",
    "for index, row in loans.iterrows(): \n",
    "    s2 = row['planned_expiration_time']\n",
    "    s1 = row['disburse_time']\n",
    "    try:\n",
    "        d2 = dt.strptime(s2, \"%Y-%m-%d %H:%M:%S.%f %z\")\n",
    "    except ValueError:\n",
    "        continue\n",
    "    except TypeError:\n",
    "        continue\n",
    "    try:\n",
    "        d1 = dt.strptime(s1, \"%Y-%m-%d %H:%M:%S.%f %z\")\n",
    "    except ValueError:\n",
    "        continue\n",
    "    except TypeError:\n",
    "        continue\n",
    "    loans.loc[index,'duration'] = (d2 - d1).days \n",
    "loans_sel = loans[ ['loan_id', 'loan_name','planned_expiration_time', 'disburse_time', 'duration'] ]\n",
    "print(\"--- %s seconds ---\" % (tm.time()-start_time)) \n",
    "loans_sel"
   ]
  },
  {
   "cell_type": "markdown",
   "metadata": {},
   "source": [
    "**3.** Find the lenders that have funded at least twice."
   ]
  },
  {
   "cell_type": "markdown",
   "metadata": {},
   "source": [
    "- Those are lenders that are duplicated in structured loan_leneders dataframe.\n"
   ]
  },
  {
   "cell_type": "raw",
   "metadata": {},
   "source": [
    "This solution is based on panda functionality:"
   ]
  },
  {
   "cell_type": "code",
   "execution_count": null,
   "metadata": {
    "scrolled": true
   },
   "outputs": [],
   "source": [
    "import time as tm\n",
    "start_time = tm.time()\n",
    "loans_lender_2_more = loans_lender[loans_lender.duplicated(['lender'])]\n",
    "lenders_funded_2_more = list(set(loans_lender_2_more['lender']))\n",
    "print(\"--- %s seconds ---\" % (tm.time()-start_time)) \n",
    "lenders_funded_2_more"
   ]
  },
  {
   "cell_type": "markdown",
   "metadata": {},
   "source": [
    "**4.** For each country, compute how many loans have involved that country as borrowers."
   ]
  },
  {
   "cell_type": "markdown",
   "metadata": {},
   "source": [
    "- This solution is based on panda grouping:"
   ]
  },
  {
   "cell_type": "code",
   "execution_count": null,
   "metadata": {},
   "outputs": [],
   "source": [
    "import time as tm\n",
    "start_time = tm.time()\n",
    "loans_count = loans.groupby(['country_code','country_name'], as_index=False)[['loan_id']].count()\n",
    "loans_count.columns = ['country_code','country_name','loan_id_count']\n",
    "print(\"--- %s seconds ---\" % (tm.time()-start_time)) \n",
    "loans_count"
   ]
  },
  {
   "cell_type": "markdown",
   "metadata": {},
   "source": [
    "**5.** For each country, compute the overall amount of money borrowed.\n"
   ]
  },
  {
   "cell_type": "markdown",
   "metadata": {},
   "source": [
    "- This solution is based on panda grouping:"
   ]
  },
  {
   "cell_type": "code",
   "execution_count": null,
   "metadata": {},
   "outputs": [],
   "source": [
    "import time as tm\n",
    "start_time = tm.time()\n",
    "loans_sum = loans.groupby(['country_code','country_name'], as_index = False)[['loan_amount']].sum()\n",
    "loans_sum.columns = ['country_code','country_name','loan_amount_sum']\n",
    "print(\"--- %s seconds ---\" % (tm.time()-start_time)) \n",
    "loans_sum"
   ]
  },
  {
   "cell_type": "markdown",
   "metadata": {},
   "source": [
    "**6.** Like the previous point, but expressed as a percentage of the overall amount lent.\n"
   ]
  },
  {
   "cell_type": "markdown",
   "metadata": {},
   "source": [
    "- This solution is based on panda functions:"
   ]
  },
  {
   "cell_type": "code",
   "execution_count": null,
   "metadata": {},
   "outputs": [],
   "source": [
    "import time as tm\n",
    "start_time = tm.time()\n",
    "loans_total = loans['loan_amount'].sum()\n",
    "loans_percent = loans.groupby(['country_code','country_name'], as_index = False)[['loan_amount']].sum()\n",
    "loans_percent.columns = ['country_code','country_name','loan_amount_sum']\n",
    "loans_percent['percent'] = loans_percent['loan_amount_sum']/loans_total*100\n",
    "print(\"--- %s seconds ---\" % (tm.time()-start_time)) \n",
    "loans_percent"
   ]
  },
  {
   "cell_type": "markdown",
   "metadata": {},
   "source": [
    "**7.** Like the three previous points, but split for each year (with respect to `disburse time`).\n"
   ]
  },
  {
   "cell_type": "markdown",
   "metadata": {},
   "source": [
    "- This solution is based on panda functions:"
   ]
  },
  {
   "cell_type": "code",
   "execution_count": null,
   "metadata": {},
   "outputs": [],
   "source": [
    "import time as tm\n",
    "start_time = tm.time()\n",
    "from datetime import datetime as dt\n",
    "loans_total = loans['loan_amount'].sum()\n",
    "loans['disburse_time_year'] = None\n",
    "for index, row in loans.iterrows():\n",
    "    try:\n",
    "        y = dt.strptime(row['disburse_time'], \"%Y-%m-%d %H:%M:%S.%f %z\").year\n",
    "    except TypeError:\n",
    "        y = None\n",
    "    except ValueError:\n",
    "        y = None\n",
    "    loans.loc[index,'disburse_time_year'] = y \n",
    "loans_agg = loans.groupby(['country_code','country_name','disburse_time_year'\\\n",
    "                          ], as_index = False).agg({'loan_id':['count'],\\\n",
    "                                                    'loan_amount':['sum', lambda x: x.sum()/loans_total*100]})\n",
    "loans_agg.columns = ['country_code','country_name','disburse_time_year','loan_id_count', \\\n",
    "                     'loan_amount_sum','loan_amount_percent']\n",
    "print(\"--- %s seconds ---\" % (tm.time()-start_time)) \n",
    "loans_agg"
   ]
  },
  {
   "cell_type": "markdown",
   "metadata": {},
   "source": [
    "**8.** For each lender, compute the overall amount of money lent. For each loan that has more than one lender, you must assume that all lenders contributed the same amount.\n"
   ]
  },
  {
   "cell_type": "markdown",
   "metadata": {},
   "source": [
    "- This solution is based on panda functions:"
   ]
  },
  {
   "cell_type": "code",
   "execution_count": null,
   "metadata": {},
   "outputs": [],
   "source": [
    "import time as tm\n",
    "start_time = tm.time()\n",
    "merged = pd.merge(left=loans_lender,right=loans, left_on='loan_id', right_on='loan_id')\n",
    "merged = merged[['loan_id','lender', 'loan_amount']]\n",
    "number_of_lenders_by_loan_id = merged.groupby(['loan_id'], as_index = False)[['lender']].count()\n",
    "number_of_lenders_by_loan_id\n",
    "merged2 = pd.merge(left=merged,right=number_of_lenders_by_loan_id, left_on='loan_id', right_on='loan_id')\n",
    "merged2['precise_amount'] = merged2.loan_amount / merged2.lender_y\n",
    "merged2\n",
    "lent_by_lender = merged2.groupby(['lender_x'], as_index = False)[['precise_amount']].sum()\n",
    "print(\"--- %s seconds ---\" % (tm.time()-start_time)) \n",
    "lent_by_lender\n",
    "#result.loc[result['lender_x'] == 'muc888'] # result for one lender"
   ]
  },
  {
   "cell_type": "markdown",
   "metadata": {},
   "source": [
    "**9.** For each country, compute the difference between the overall amount of money lent and the overall amount of money borrowed. Since the country of the lender is often unknown, you can assume that the true distribution among the countries is the same as the one computed from the rows where the country is known.\n"
   ]
  },
  {
   "cell_type": "code",
   "execution_count": null,
   "metadata": {
    "scrolled": true
   },
   "outputs": [],
   "source": [
    "import pandas as pd\n",
    "import numpy as np\n",
    "import time as tm\n",
    "start_time = tm.time()\n",
    "lenders = pd.read_csv('../../Datasets/kiva/lenders.csv')\n",
    "if not FINAL:\n",
    "    lenders = lenders.head(20000) \n",
    "lender_states = lenders[['permanent_name','country_code']]\n",
    "lender_states"
   ]
  },
  {
   "cell_type": "code",
   "execution_count": null,
   "metadata": {
    "scrolled": true
   },
   "outputs": [],
   "source": [
    "lenders_in_states = lender_states.loc[lender_states['country_code'].notnull()]\n",
    "lenders_in_states"
   ]
  },
  {
   "cell_type": "code",
   "execution_count": null,
   "metadata": {
    "scrolled": true
   },
   "outputs": [],
   "source": [
    "lenders_without_states = lender_states.loc[lender_states['country_code'].isnull()]\n",
    "lenders_without_states"
   ]
  },
  {
   "cell_type": "code",
   "execution_count": null,
   "metadata": {
    "scrolled": true
   },
   "outputs": [],
   "source": [
    "lent_and_state = pd.merge(left=lent_by_lender, right=lenders_in_states, left_on='lender_x', right_on='permanent_name')\n",
    "lent_total = lent_and_state['precise_amount'].sum()\n",
    "lent_by_state = lent_and_state.groupby(['country_code'], as_index = False\\\n",
    "                                      ).agg({'precise_amount':['count', 'sum', \\\n",
    "                                                               lambda x: x.sum()/lent_total]})\n",
    "lent_by_state.columns = ['country_code', 'lent_count', 'lent_sum', 'lent_factor']\n",
    "lent_by_state"
   ]
  },
  {
   "cell_type": "code",
   "execution_count": null,
   "metadata": {
    "scrolled": false
   },
   "outputs": [],
   "source": [
    "lent_no_state = pd.merge(left=lent_by_lender, right=lenders_without_states, \\\n",
    "                         left_on='lender_x', right_on='permanent_name')\n",
    "lent_no_state_total = lent_no_state['precise_amount'].sum()\n",
    "lent_no_state_total"
   ]
  },
  {
   "cell_type": "code",
   "execution_count": null,
   "metadata": {
    "scrolled": false
   },
   "outputs": [],
   "source": [
    "lent_by_state['additional_lent'] = lent_by_state.lent_factor * lent_no_state_total\n",
    "lent_by_state"
   ]
  },
  {
   "cell_type": "code",
   "execution_count": null,
   "metadata": {
    "scrolled": true
   },
   "outputs": [],
   "source": [
    "loan_and_state = loans[['loan_id','country_code','loan_amount']]\n",
    "loan_and_state"
   ]
  },
  {
   "cell_type": "code",
   "execution_count": null,
   "metadata": {
    "scrolled": true
   },
   "outputs": [],
   "source": [
    "loan_by_state = loan_and_state.groupby(['country_code'], as_index = False).agg({'loan_amount':['sum']})\n",
    "loan_by_state.columns = ['country_code','loan_amount_sum']\n",
    "loan_by_state"
   ]
  },
  {
   "cell_type": "code",
   "execution_count": null,
   "metadata": {
    "scrolled": true
   },
   "outputs": [],
   "source": [
    "loan_and_lent = pd.merge(loan_by_state, lent_by_state, how='left', on=['country_code'])\n",
    "loan_and_lent['difference'] = loan_and_lent.loan_amount_sum - loan_and_lent.lent_sum - loan_and_lent.additional_lent \n",
    "print(\"--- %s seconds ---\" % (tm.time()-start_time)) \n",
    "loan_and_lent[loan_and_lent.difference == loan_and_lent.difference.max()]"
   ]
  },
  {
   "cell_type": "markdown",
   "metadata": {},
   "source": [
    "**10.** Which country has the highest ratio between the difference computed at the previous point and the population?\n"
   ]
  },
  {
   "cell_type": "code",
   "execution_count": null,
   "metadata": {
    "scrolled": true
   },
   "outputs": [],
   "source": [
    "import pandas as pd\n",
    "import numpy as np\n",
    "import time as tm\n",
    "start_time = tm.time()\n",
    "country_stat = pd.read_csv('../../Datasets/kiva/country_stats.csv')\n",
    "country_stat = country_stat[['country_code', 'country_name', 'population', 'population_below_poverty_line']]\n",
    "country_stat"
   ]
  },
  {
   "cell_type": "code",
   "execution_count": null,
   "metadata": {
    "scrolled": true
   },
   "outputs": [],
   "source": [
    "country_stat_loan_and_lent = pd.merge(left=country_stat, right=loan_and_lent, \\\n",
    "                                      left_on='country_code', right_on='country_code')\n",
    "country_stat_loan_and_lent = country_stat_loan_and_lent[['country_code', 'country_name', 'difference', \\\n",
    "                                                         'population', 'population_below_poverty_line']]\n",
    "country_stat_loan_and_lent['ratio_1'] = country_stat_loan_and_lent.difference/country_stat_loan_and_lent.population\n",
    "print(\"--- %s seconds ---\" % (tm.time()-start_time)) \n",
    "country_stat_loan_and_lent[country_stat_loan_and_lent.ratio_1 == country_stat_loan_and_lent.ratio_1.max()]"
   ]
  },
  {
   "cell_type": "markdown",
   "metadata": {},
   "source": [
    "**11.** Which country has the highest ratio between the difference computed at point 9 and the population that is not below the poverty line?\n"
   ]
  },
  {
   "cell_type": "code",
   "execution_count": null,
   "metadata": {
    "scrolled": true
   },
   "outputs": [],
   "source": [
    "import time as tm\n",
    "start_time = tm.time()\n",
    "country_stat_loan_and_lent = pd.merge(left=country_stat, right=loan_and_lent, \\\n",
    "                                      left_on='country_code', right_on='country_code')\n",
    "country_stat_loan_and_lent = country_stat_loan_and_lent[['country_code', 'country_name', 'difference', \\\n",
    "                                                         'population', 'population_below_poverty_line']]\n",
    "country_stat_loan_and_lent['ratio_2'] = country_stat_loan_and_lent.difference\\\n",
    "/(country_stat_loan_and_lent.population * ((100-country_stat_loan_and_lent.population_below_poverty_line)/100) )\n",
    "print(\"--- %s seconds ---\" % (tm.time()-start_time)) \n",
    "country_stat_loan_and_lent[country_stat_loan_and_lent.ratio_2 == country_stat_loan_and_lent.ratio_2.max()]"
   ]
  },
  {
   "cell_type": "markdown",
   "metadata": {},
   "source": [
    "**12.** For each year, compute the total amount of loans. Each loan that has planned expiration time and disburse time in different years must have its amount distributed proportionally to the number of days in each year. For example, a loan with disburse time December 1st, 2016, planned expiration time January 30th 2018, and amount 5000USD has an amount of 5000USD * 31 / (31+365+30) = 363.85 for 2016, 5000USD * 365 / (31+365+30) = 4284.04 for 2017, and 5000USD * 30 / (31+365+30) = 352.11 for 2018."
   ]
  },
  {
   "cell_type": "code",
   "execution_count": null,
   "metadata": {
    "scrolled": true
   },
   "outputs": [],
   "source": [
    "import time as tm\n",
    "start_time = tm.time()\n",
    "\n",
    "from datetime import datetime as dt, timezone as tz\n",
    "\n",
    "now = dt.now(tz.utc)\n",
    "\n",
    "def days_in_year(year):\n",
    "    d1 = dt.strptime( str(year)+'-01-01', \"%Y-%m-%d\") \n",
    "    d1 = d1.replace(tzinfo=None)\n",
    "    d2 = dt.strptime( str(year)+'-12-31', \"%Y-%m-%d\")\n",
    "    d2 = d2.replace(tzinfo=None)\n",
    "    return (d2-d1).days+1\n",
    "\n",
    "def total_amount_of_loans(disb, plan_exp, amount):\n",
    "    if( disb.year == plan_exp.year ):\n",
    "        return [(disb.year,amount)]\n",
    "    disb = disb.replace(tzinfo=None)\n",
    "    plan_exp = plan_exp.replace(tzinfo=None) \n",
    "    total_days = (plan_exp-disb).days \n",
    "    total_days += 1\n",
    "    total_amount = []\n",
    "    curr = disb\n",
    "    curr = curr.replace(tzinfo=None)\n",
    "    for y in range(disb.year, plan_exp.year):\n",
    "        dy = (dt.strptime(str(y)+'-12-31',\"%Y-%m-%d\").replace(tzinfo=None)-curr).days + 1\n",
    "        total_amount.append((y, dy * amount / total_days))\n",
    "        curr = dt.strptime(str(y+1)+'-01-01',\"%Y-%m-%d\")\n",
    "        curr = curr.replace(tzinfo=None)\n",
    "    dy = (plan_exp-curr).days + 1\n",
    "    total_amount.append( (plan_exp.year, dy * amount / total_days) )\n",
    "    return total_amount\n",
    "\n",
    "d_t = dt.strptime( '2016-12-01', \"%Y-%m-%d\")\n",
    "p_e_t = dt.strptime( '2018-01-30', \"%Y-%m-%d\")\n",
    "total_amount_of_loans(d_t, p_e_t, 5000)"
   ]
  },
  {
   "cell_type": "code",
   "execution_count": null,
   "metadata": {
    "scrolled": false
   },
   "outputs": [],
   "source": [
    "import pandas as pd\n",
    "import numpy as np\n",
    "loans\n",
    "loans_base = loans[['loan_id','loan_name','loan_amount','planned_expiration_time','disburse_time']]\n",
    "loans_base"
   ]
  },
  {
   "cell_type": "code",
   "execution_count": null,
   "metadata": {},
   "outputs": [],
   "source": [
    "lis = []\n",
    "for index, row in loans_base.iterrows():\n",
    "    s2 = row['planned_expiration_time']\n",
    "    try:\n",
    "        d2 = dt.strptime(s2, \"%Y-%m-%d %H:%M:%S.%f %z\")\n",
    "    except ValueError:\n",
    "        continue\n",
    "    except TypeError:\n",
    "        continue\n",
    "    s1 = row['disburse_time']\n",
    "    try:\n",
    "        d1 = dt.strptime(s1, \"%Y-%m-%d %H:%M:%S.%f %z\")\n",
    "    except ValueError:\n",
    "        continue\n",
    "    except TypeError:\n",
    "        continue\n",
    "    try:\n",
    "        amt = float(row['loan_amount'])\n",
    "    except ValueError:\n",
    "        continue\n",
    "    except TypeError:\n",
    "        continue\n",
    "    ls = total_amount_of_loans(d1, d2, amt)\n",
    "    for l in ls:\n",
    "        lis.append({ 'loan_id' : row['loan_id'], 'loan_name': row['loan_name'], 'loan_amount': row['loan_amount'], \\\n",
    "                    'planned_expiration_time': row['planned_expiration_time'], \\\n",
    "                    'disburse_time': row['disburse_time'],'year': l[0], 'ammount':l[1] })\n",
    "loans_final = pd.DataFrame(lis) \n",
    "print(\"--- %s seconds ---\" % (tm.time()-start_time)) \n",
    "loans_final"
   ]
  },
  {
   "cell_type": "code",
   "execution_count": null,
   "metadata": {},
   "outputs": [],
   "source": []
  }
 ],
 "metadata": {
  "kernelspec": {
   "display_name": "Python 3",
   "language": "python",
   "name": "python3"
  },
  "language_info": {
   "codemirror_mode": {
    "name": "ipython",
    "version": 3
   },
   "file_extension": ".py",
   "mimetype": "text/x-python",
   "name": "python",
   "nbconvert_exporter": "python",
   "pygments_lexer": "ipython3",
   "version": "3.7.4"
  }
 },
 "nbformat": 4,
 "nbformat_minor": 2
}
