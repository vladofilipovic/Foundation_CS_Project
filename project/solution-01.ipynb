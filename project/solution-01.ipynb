{
 "cells": [
  {
   "cell_type": "markdown",
   "metadata": {},
   "source": [
    "# Project Solution\n",
    "\n",
    "You have to work on the [Kiva](https://drive.google.com/file/d/1-tJtnIbo1Rt-F1XfoWGVkmBXiI-ciuRx/view) dataset. Some information on the datasets are on the [Kaggle](https://www.kaggle.com/gaborfodor/additional-kiva-snapshot) web page."
   ]
  },
  {
   "cell_type": "markdown",
   "metadata": {},
   "source": [
    "## Basic tasks\n",
    "\n",
    "All groups and individual must do the following:\n",
    "\n",
    "`1.` Normalize the `loan_lenders` table. In the normalized table, each row must have one `loan_id` and one `lender`."
   ]
  },
  {
   "cell_type": "markdown",
   "metadata": {},
   "source": [
    "Firstly, csv file is read and data frame with unnormalized data is created:"
   ]
  },
  {
   "cell_type": "code",
   "execution_count": 1,
   "metadata": {},
   "outputs": [
    {
     "name": "stdout",
     "output_type": "stream",
     "text": [
      "--- 3.088975667953491 seconds ---\n"
     ]
    },
    {
     "data": {
      "text/html": [
       "<div>\n",
       "<style scoped>\n",
       "    .dataframe tbody tr th:only-of-type {\n",
       "        vertical-align: middle;\n",
       "    }\n",
       "\n",
       "    .dataframe tbody tr th {\n",
       "        vertical-align: top;\n",
       "    }\n",
       "\n",
       "    .dataframe thead th {\n",
       "        text-align: right;\n",
       "    }\n",
       "</style>\n",
       "<table border=\"1\" class=\"dataframe\">\n",
       "  <thead>\n",
       "    <tr style=\"text-align: right;\">\n",
       "      <th></th>\n",
       "      <th>loan_id</th>\n",
       "      <th>lenders</th>\n",
       "    </tr>\n",
       "  </thead>\n",
       "  <tbody>\n",
       "    <tr>\n",
       "      <td>0</td>\n",
       "      <td>483693</td>\n",
       "      <td>muc888, sam4326, camaran3922, lachheb1865, reb...</td>\n",
       "    </tr>\n",
       "    <tr>\n",
       "      <td>1</td>\n",
       "      <td>483738</td>\n",
       "      <td>muc888, nora3555, williammanashi, barbara5610,...</td>\n",
       "    </tr>\n",
       "    <tr>\n",
       "      <td>2</td>\n",
       "      <td>485000</td>\n",
       "      <td>muc888, terrystl, richardandsusan8352, sherri4...</td>\n",
       "    </tr>\n",
       "    <tr>\n",
       "      <td>3</td>\n",
       "      <td>486087</td>\n",
       "      <td>muc888, james5068, rudi5955, daniel9859, don92...</td>\n",
       "    </tr>\n",
       "    <tr>\n",
       "      <td>4</td>\n",
       "      <td>534428</td>\n",
       "      <td>muc888, niki3008, teresa9174, mike4896, david7...</td>\n",
       "    </tr>\n",
       "    <tr>\n",
       "      <td>...</td>\n",
       "      <td>...</td>\n",
       "      <td>...</td>\n",
       "    </tr>\n",
       "    <tr>\n",
       "      <td>1387427</td>\n",
       "      <td>678999</td>\n",
       "      <td>michael43411218, carol5987, gooddogg1, chris41...</td>\n",
       "    </tr>\n",
       "    <tr>\n",
       "      <td>1387428</td>\n",
       "      <td>1207353</td>\n",
       "      <td>rjhoward1986, jeffrey6870, trolltech4460, elys...</td>\n",
       "    </tr>\n",
       "    <tr>\n",
       "      <td>1387429</td>\n",
       "      <td>1206220</td>\n",
       "      <td>vicky7746, gooddogg1, fairspirit, craig9729960...</td>\n",
       "    </tr>\n",
       "    <tr>\n",
       "      <td>1387430</td>\n",
       "      <td>1206425</td>\n",
       "      <td>rich6705, sergiiy9766, angela7509, barbara5610...</td>\n",
       "    </tr>\n",
       "    <tr>\n",
       "      <td>1387431</td>\n",
       "      <td>1206486</td>\n",
       "      <td>alan5175, amy38101311</td>\n",
       "    </tr>\n",
       "  </tbody>\n",
       "</table>\n",
       "<p>1387432 rows × 2 columns</p>\n",
       "</div>"
      ],
      "text/plain": [
       "         loan_id                                            lenders\n",
       "0         483693  muc888, sam4326, camaran3922, lachheb1865, reb...\n",
       "1         483738  muc888, nora3555, williammanashi, barbara5610,...\n",
       "2         485000  muc888, terrystl, richardandsusan8352, sherri4...\n",
       "3         486087  muc888, james5068, rudi5955, daniel9859, don92...\n",
       "4         534428  muc888, niki3008, teresa9174, mike4896, david7...\n",
       "...          ...                                                ...\n",
       "1387427   678999  michael43411218, carol5987, gooddogg1, chris41...\n",
       "1387428  1207353  rjhoward1986, jeffrey6870, trolltech4460, elys...\n",
       "1387429  1206220  vicky7746, gooddogg1, fairspirit, craig9729960...\n",
       "1387430  1206425  rich6705, sergiiy9766, angela7509, barbara5610...\n",
       "1387431  1206486                              alan5175, amy38101311\n",
       "\n",
       "[1387432 rows x 2 columns]"
      ]
     },
     "execution_count": 1,
     "metadata": {},
     "output_type": "execute_result"
    }
   ],
   "source": [
    "import pandas as pd\n",
    "import numpy as np\n",
    "import time as tm\n",
    "FINAL = True # This is final calculation, on complete data\n",
    "start_time = tm.time()\n",
    "loans_lenders_un = pd.read_csv('../../Datasets/kiva/loans_lenders.csv')\n",
    "if not FINAL:\n",
    "    loans_lenders_un = loans_lenders_un.head(10000) \n",
    "print(\"--- %s seconds ---\" % (tm.time()-start_time)) \n",
    "loans_lenders_un"
   ]
  },
  {
   "cell_type": "markdown",
   "metadata": {},
   "source": [
    "Data frame with structured data will be created with help of intermediate object - list of pairs (loan_id, lender) packed in the dictionary:"
   ]
  },
  {
   "cell_type": "code",
   "execution_count": 2,
   "metadata": {},
   "outputs": [
    {
     "name": "stdout",
     "output_type": "stream",
     "text": [
      "--- 284.1217665672302 seconds ---\n"
     ]
    },
    {
     "data": {
      "text/html": [
       "<div>\n",
       "<style scoped>\n",
       "    .dataframe tbody tr th:only-of-type {\n",
       "        vertical-align: middle;\n",
       "    }\n",
       "\n",
       "    .dataframe tbody tr th {\n",
       "        vertical-align: top;\n",
       "    }\n",
       "\n",
       "    .dataframe thead th {\n",
       "        text-align: right;\n",
       "    }\n",
       "</style>\n",
       "<table border=\"1\" class=\"dataframe\">\n",
       "  <thead>\n",
       "    <tr style=\"text-align: right;\">\n",
       "      <th></th>\n",
       "      <th>loan_id</th>\n",
       "      <th>lender</th>\n",
       "    </tr>\n",
       "  </thead>\n",
       "  <tbody>\n",
       "    <tr>\n",
       "      <td>0</td>\n",
       "      <td>483693</td>\n",
       "      <td>muc888</td>\n",
       "    </tr>\n",
       "    <tr>\n",
       "      <td>1</td>\n",
       "      <td>483693</td>\n",
       "      <td>sam4326</td>\n",
       "    </tr>\n",
       "    <tr>\n",
       "      <td>2</td>\n",
       "      <td>483693</td>\n",
       "      <td>camaran3922</td>\n",
       "    </tr>\n",
       "    <tr>\n",
       "      <td>3</td>\n",
       "      <td>483693</td>\n",
       "      <td>lachheb1865</td>\n",
       "    </tr>\n",
       "    <tr>\n",
       "      <td>4</td>\n",
       "      <td>483693</td>\n",
       "      <td>rebecca3499</td>\n",
       "    </tr>\n",
       "    <tr>\n",
       "      <td>...</td>\n",
       "      <td>...</td>\n",
       "      <td>...</td>\n",
       "    </tr>\n",
       "    <tr>\n",
       "      <td>28293926</td>\n",
       "      <td>1206425</td>\n",
       "      <td>trogdorfamily7622</td>\n",
       "    </tr>\n",
       "    <tr>\n",
       "      <td>28293927</td>\n",
       "      <td>1206425</td>\n",
       "      <td>danny6470</td>\n",
       "    </tr>\n",
       "    <tr>\n",
       "      <td>28293928</td>\n",
       "      <td>1206425</td>\n",
       "      <td>don6118</td>\n",
       "    </tr>\n",
       "    <tr>\n",
       "      <td>28293929</td>\n",
       "      <td>1206486</td>\n",
       "      <td>alan5175</td>\n",
       "    </tr>\n",
       "    <tr>\n",
       "      <td>28293930</td>\n",
       "      <td>1206486</td>\n",
       "      <td>amy38101311</td>\n",
       "    </tr>\n",
       "  </tbody>\n",
       "</table>\n",
       "<p>28293931 rows × 2 columns</p>\n",
       "</div>"
      ],
      "text/plain": [
       "          loan_id             lender\n",
       "0          483693             muc888\n",
       "1          483693            sam4326\n",
       "2          483693        camaran3922\n",
       "3          483693        lachheb1865\n",
       "4          483693        rebecca3499\n",
       "...           ...                ...\n",
       "28293926  1206425  trogdorfamily7622\n",
       "28293927  1206425          danny6470\n",
       "28293928  1206425            don6118\n",
       "28293929  1206486           alan5175\n",
       "28293930  1206486        amy38101311\n",
       "\n",
       "[28293931 rows x 2 columns]"
      ]
     },
     "execution_count": 2,
     "metadata": {},
     "output_type": "execute_result"
    }
   ],
   "source": [
    "import time as tm\n",
    "start_time = tm.time()\n",
    "lis = []\n",
    "for index, row in loans_lenders_un.iterrows(): \n",
    "    ls = row['lenders'].split(',')\n",
    "    for l in ls:\n",
    "        lis.append({ 'loan_id' : row['loan_id'], 'lender': l.strip() })\n",
    "loans_lender = pd.DataFrame(lis) \n",
    "print(\"--- %s seconds ---\" % (tm.time()-start_time)) \n",
    "loans_lender "
   ]
  },
  {
   "cell_type": "markdown",
   "metadata": {},
   "source": [
    "`2.` For each loan, add a column `duration` corresponding to the number of days between the disburse time and the planned expiration time. If any of those two dates is missing, also the duration must be missing."
   ]
  },
  {
   "cell_type": "markdown",
   "metadata": {},
   "source": [
    "Firstly, data frame should be loaded and structure of the data frame `loans` should be determined:"
   ]
  },
  {
   "cell_type": "code",
   "execution_count": 3,
   "metadata": {
    "scrolled": true
   },
   "outputs": [
    {
     "name": "stdout",
     "output_type": "stream",
     "text": [
      "--- 51.72936820983887 seconds ---\n"
     ]
    },
    {
     "data": {
      "text/plain": [
       "Index(['loan_id', 'loan_name', 'original_language', 'description',\n",
       "       'description_translated', 'funded_amount', 'loan_amount', 'status',\n",
       "       'activity_name', 'sector_name', 'loan_use', 'country_code',\n",
       "       'country_name', 'town_name', 'currency_policy',\n",
       "       'currency_exchange_coverage_rate', 'currency', 'partner_id',\n",
       "       'posted_time', 'planned_expiration_time', 'disburse_time',\n",
       "       'raised_time', 'lender_term', 'num_lenders_total',\n",
       "       'num_journal_entries', 'num_bulk_entries', 'tags', 'borrower_genders',\n",
       "       'borrower_pictured', 'repayment_interval', 'distribution_model'],\n",
       "      dtype='object')"
      ]
     },
     "execution_count": 3,
     "metadata": {},
     "output_type": "execute_result"
    }
   ],
   "source": [
    "import pandas as pd\n",
    "import numpy as np\n",
    "import time as tm\n",
    "start_time = tm.time()\n",
    "loans = pd.read_csv('../../Datasets/kiva/loans.csv')\n",
    "print(\"--- %s seconds ---\" % (tm.time()-start_time)) \n",
    "loans.columns"
   ]
  },
  {
   "cell_type": "markdown",
   "metadata": {},
   "source": [
    "After thar, values from the data frame should be displayed:"
   ]
  },
  {
   "cell_type": "code",
   "execution_count": 4,
   "metadata": {
    "scrolled": true
   },
   "outputs": [
    {
     "data": {
      "text/html": [
       "<div>\n",
       "<style scoped>\n",
       "    .dataframe tbody tr th:only-of-type {\n",
       "        vertical-align: middle;\n",
       "    }\n",
       "\n",
       "    .dataframe tbody tr th {\n",
       "        vertical-align: top;\n",
       "    }\n",
       "\n",
       "    .dataframe thead th {\n",
       "        text-align: right;\n",
       "    }\n",
       "</style>\n",
       "<table border=\"1\" class=\"dataframe\">\n",
       "  <thead>\n",
       "    <tr style=\"text-align: right;\">\n",
       "      <th></th>\n",
       "      <th>loan_id</th>\n",
       "      <th>loan_name</th>\n",
       "      <th>original_language</th>\n",
       "      <th>description</th>\n",
       "      <th>description_translated</th>\n",
       "      <th>funded_amount</th>\n",
       "      <th>loan_amount</th>\n",
       "      <th>status</th>\n",
       "      <th>activity_name</th>\n",
       "      <th>sector_name</th>\n",
       "      <th>...</th>\n",
       "      <th>raised_time</th>\n",
       "      <th>lender_term</th>\n",
       "      <th>num_lenders_total</th>\n",
       "      <th>num_journal_entries</th>\n",
       "      <th>num_bulk_entries</th>\n",
       "      <th>tags</th>\n",
       "      <th>borrower_genders</th>\n",
       "      <th>borrower_pictured</th>\n",
       "      <th>repayment_interval</th>\n",
       "      <th>distribution_model</th>\n",
       "    </tr>\n",
       "  </thead>\n",
       "  <tbody>\n",
       "    <tr>\n",
       "      <td>0</td>\n",
       "      <td>657307</td>\n",
       "      <td>Aivy</td>\n",
       "      <td>English</td>\n",
       "      <td>Aivy, 21 years of age, is single and lives in ...</td>\n",
       "      <td>NaN</td>\n",
       "      <td>125.0</td>\n",
       "      <td>125.0</td>\n",
       "      <td>funded</td>\n",
       "      <td>General Store</td>\n",
       "      <td>Retail</td>\n",
       "      <td>...</td>\n",
       "      <td>2014-01-15 04:48:22.000 +0000</td>\n",
       "      <td>7.0</td>\n",
       "      <td>3</td>\n",
       "      <td>2</td>\n",
       "      <td>1</td>\n",
       "      <td>NaN</td>\n",
       "      <td>female</td>\n",
       "      <td>true</td>\n",
       "      <td>irregular</td>\n",
       "      <td>field_partner</td>\n",
       "    </tr>\n",
       "    <tr>\n",
       "      <td>1</td>\n",
       "      <td>657259</td>\n",
       "      <td>Idalia Marizza</td>\n",
       "      <td>Spanish</td>\n",
       "      <td>Doña Idalia, esta casada, tiene 57 años de eda...</td>\n",
       "      <td>Idalia, 57, is married and lives with her husb...</td>\n",
       "      <td>400.0</td>\n",
       "      <td>400.0</td>\n",
       "      <td>funded</td>\n",
       "      <td>Used Clothing</td>\n",
       "      <td>Clothing</td>\n",
       "      <td>...</td>\n",
       "      <td>2014-02-25 06:42:06.000 +0000</td>\n",
       "      <td>8.0</td>\n",
       "      <td>11</td>\n",
       "      <td>2</td>\n",
       "      <td>1</td>\n",
       "      <td>NaN</td>\n",
       "      <td>female</td>\n",
       "      <td>true</td>\n",
       "      <td>monthly</td>\n",
       "      <td>field_partner</td>\n",
       "    </tr>\n",
       "    <tr>\n",
       "      <td>2</td>\n",
       "      <td>658010</td>\n",
       "      <td>Aasia</td>\n",
       "      <td>English</td>\n",
       "      <td>Aasia is a 45-year-old married lady and she ha...</td>\n",
       "      <td>NaN</td>\n",
       "      <td>400.0</td>\n",
       "      <td>400.0</td>\n",
       "      <td>funded</td>\n",
       "      <td>General Store</td>\n",
       "      <td>Retail</td>\n",
       "      <td>...</td>\n",
       "      <td>2014-01-24 23:06:18.000 +0000</td>\n",
       "      <td>14.0</td>\n",
       "      <td>16</td>\n",
       "      <td>2</td>\n",
       "      <td>1</td>\n",
       "      <td>#Woman Owned Biz, #Supporting Family, user_fav...</td>\n",
       "      <td>female</td>\n",
       "      <td>true</td>\n",
       "      <td>monthly</td>\n",
       "      <td>field_partner</td>\n",
       "    </tr>\n",
       "    <tr>\n",
       "      <td>3</td>\n",
       "      <td>659347</td>\n",
       "      <td>Gulmira</td>\n",
       "      <td>Russian</td>\n",
       "      <td>Гулмире 36 лет, замужем, вместе с супругом вос...</td>\n",
       "      <td>Gulmira is 36 years old and married.  She and ...</td>\n",
       "      <td>625.0</td>\n",
       "      <td>625.0</td>\n",
       "      <td>funded</td>\n",
       "      <td>Farming</td>\n",
       "      <td>Agriculture</td>\n",
       "      <td>...</td>\n",
       "      <td>2014-01-22 05:29:28.000 +0000</td>\n",
       "      <td>14.0</td>\n",
       "      <td>21</td>\n",
       "      <td>2</td>\n",
       "      <td>1</td>\n",
       "      <td>user_favorite</td>\n",
       "      <td>female</td>\n",
       "      <td>true</td>\n",
       "      <td>monthly</td>\n",
       "      <td>field_partner</td>\n",
       "    </tr>\n",
       "    <tr>\n",
       "      <td>4</td>\n",
       "      <td>656933</td>\n",
       "      <td>Ricky\\t</td>\n",
       "      <td>English</td>\n",
       "      <td>Ricky is a farmer who currently cultivates his...</td>\n",
       "      <td>NaN</td>\n",
       "      <td>425.0</td>\n",
       "      <td>425.0</td>\n",
       "      <td>funded</td>\n",
       "      <td>Farming</td>\n",
       "      <td>Agriculture</td>\n",
       "      <td>...</td>\n",
       "      <td>2014-01-14 17:29:27.000 +0000</td>\n",
       "      <td>7.0</td>\n",
       "      <td>15</td>\n",
       "      <td>2</td>\n",
       "      <td>1</td>\n",
       "      <td>#Animals, #Eco-friendly, #Sustainable Ag</td>\n",
       "      <td>male</td>\n",
       "      <td>true</td>\n",
       "      <td>bullet</td>\n",
       "      <td>field_partner</td>\n",
       "    </tr>\n",
       "    <tr>\n",
       "      <td>...</td>\n",
       "      <td>...</td>\n",
       "      <td>...</td>\n",
       "      <td>...</td>\n",
       "      <td>...</td>\n",
       "      <td>...</td>\n",
       "      <td>...</td>\n",
       "      <td>...</td>\n",
       "      <td>...</td>\n",
       "      <td>...</td>\n",
       "      <td>...</td>\n",
       "      <td>...</td>\n",
       "      <td>...</td>\n",
       "      <td>...</td>\n",
       "      <td>...</td>\n",
       "      <td>...</td>\n",
       "      <td>...</td>\n",
       "      <td>...</td>\n",
       "      <td>...</td>\n",
       "      <td>...</td>\n",
       "      <td>...</td>\n",
       "      <td>...</td>\n",
       "    </tr>\n",
       "    <tr>\n",
       "      <td>1419602</td>\n",
       "      <td>988180</td>\n",
       "      <td>NaN</td>\n",
       "      <td>NaN</td>\n",
       "      <td>NaN</td>\n",
       "      <td>NaN</td>\n",
       "      <td>400.0</td>\n",
       "      <td>400.0</td>\n",
       "      <td>funded</td>\n",
       "      <td>Tailoring</td>\n",
       "      <td>Services</td>\n",
       "      <td>...</td>\n",
       "      <td>2015-12-28 15:44:18.000 +0000</td>\n",
       "      <td>14.0</td>\n",
       "      <td>16</td>\n",
       "      <td>4</td>\n",
       "      <td>2</td>\n",
       "      <td>#Parent, #Repeat Borrower, #Woman Owned Biz</td>\n",
       "      <td>NaN</td>\n",
       "      <td>NaN</td>\n",
       "      <td>monthly</td>\n",
       "      <td>field_partner</td>\n",
       "    </tr>\n",
       "    <tr>\n",
       "      <td>1419603</td>\n",
       "      <td>988213</td>\n",
       "      <td>Perlita</td>\n",
       "      <td>English</td>\n",
       "      <td>Perlita is 52 years old, married and has three...</td>\n",
       "      <td>Perlita is 52 years old, married and has three...</td>\n",
       "      <td>300.0</td>\n",
       "      <td>300.0</td>\n",
       "      <td>funded</td>\n",
       "      <td>Pigs</td>\n",
       "      <td>Agriculture</td>\n",
       "      <td>...</td>\n",
       "      <td>2015-12-22 10:37:06.000 +0000</td>\n",
       "      <td>14.0</td>\n",
       "      <td>12</td>\n",
       "      <td>1</td>\n",
       "      <td>1</td>\n",
       "      <td>#Animals, #Elderly, #Repeat Borrower, #Woman O...</td>\n",
       "      <td>female</td>\n",
       "      <td>true</td>\n",
       "      <td>irregular</td>\n",
       "      <td>field_partner</td>\n",
       "    </tr>\n",
       "    <tr>\n",
       "      <td>1419604</td>\n",
       "      <td>989109</td>\n",
       "      <td>Okyeso Nyame Group</td>\n",
       "      <td>English</td>\n",
       "      <td>Okyeso Nyame group will begin its third cycle ...</td>\n",
       "      <td>Okyeso Nyame group will begin its third cycle ...</td>\n",
       "      <td>2425.0</td>\n",
       "      <td>2425.0</td>\n",
       "      <td>funded</td>\n",
       "      <td>Bakery</td>\n",
       "      <td>Food</td>\n",
       "      <td>...</td>\n",
       "      <td>2015-12-26 20:24:47.000 +0000</td>\n",
       "      <td>8.0</td>\n",
       "      <td>76</td>\n",
       "      <td>2</td>\n",
       "      <td>1</td>\n",
       "      <td>user_favorite, #Parent, #Vegan, #Woman Owned B...</td>\n",
       "      <td>female, female, female, male, male, female</td>\n",
       "      <td>true, true, true, true, true, true</td>\n",
       "      <td>irregular</td>\n",
       "      <td>field_partner</td>\n",
       "    </tr>\n",
       "    <tr>\n",
       "      <td>1419605</td>\n",
       "      <td>989143</td>\n",
       "      <td>Exequila</td>\n",
       "      <td>English</td>\n",
       "      <td>Exequila  is from San Miguel, Bohol. She is in...</td>\n",
       "      <td>Exequila  is from San Miguel, Bohol. She is in...</td>\n",
       "      <td>100.0</td>\n",
       "      <td>100.0</td>\n",
       "      <td>funded</td>\n",
       "      <td>Farming</td>\n",
       "      <td>Agriculture</td>\n",
       "      <td>...</td>\n",
       "      <td>2015-12-06 21:03:57.000 +0000</td>\n",
       "      <td>12.0</td>\n",
       "      <td>3</td>\n",
       "      <td>1</td>\n",
       "      <td>1</td>\n",
       "      <td>NaN</td>\n",
       "      <td>female</td>\n",
       "      <td>true</td>\n",
       "      <td>irregular</td>\n",
       "      <td>field_partner</td>\n",
       "    </tr>\n",
       "    <tr>\n",
       "      <td>1419606</td>\n",
       "      <td>989240</td>\n",
       "      <td>Lydia</td>\n",
       "      <td>French</td>\n",
       "      <td>Lydia a 37ans et habite dans une zone rurale. ...</td>\n",
       "      <td>Lydia is 37 years old and lives in a rural are...</td>\n",
       "      <td>175.0</td>\n",
       "      <td>175.0</td>\n",
       "      <td>funded</td>\n",
       "      <td>Sewing</td>\n",
       "      <td>Services</td>\n",
       "      <td>...</td>\n",
       "      <td>2015-12-04 23:17:04.000 +0000</td>\n",
       "      <td>14.0</td>\n",
       "      <td>7</td>\n",
       "      <td>1</td>\n",
       "      <td>1</td>\n",
       "      <td>NaN</td>\n",
       "      <td>female</td>\n",
       "      <td>true</td>\n",
       "      <td>monthly</td>\n",
       "      <td>field_partner</td>\n",
       "    </tr>\n",
       "  </tbody>\n",
       "</table>\n",
       "<p>1419607 rows × 31 columns</p>\n",
       "</div>"
      ],
      "text/plain": [
       "         loan_id           loan_name original_language  \\\n",
       "0         657307                Aivy           English   \n",
       "1         657259      Idalia Marizza           Spanish   \n",
       "2         658010               Aasia           English   \n",
       "3         659347             Gulmira           Russian   \n",
       "4         656933             Ricky\\t           English   \n",
       "...          ...                 ...               ...   \n",
       "1419602   988180                 NaN               NaN   \n",
       "1419603   988213             Perlita           English   \n",
       "1419604   989109  Okyeso Nyame Group           English   \n",
       "1419605   989143            Exequila           English   \n",
       "1419606   989240               Lydia            French   \n",
       "\n",
       "                                               description  \\\n",
       "0        Aivy, 21 years of age, is single and lives in ...   \n",
       "1        Doña Idalia, esta casada, tiene 57 años de eda...   \n",
       "2        Aasia is a 45-year-old married lady and she ha...   \n",
       "3        Гулмире 36 лет, замужем, вместе с супругом вос...   \n",
       "4        Ricky is a farmer who currently cultivates his...   \n",
       "...                                                    ...   \n",
       "1419602                                                NaN   \n",
       "1419603  Perlita is 52 years old, married and has three...   \n",
       "1419604  Okyeso Nyame group will begin its third cycle ...   \n",
       "1419605  Exequila  is from San Miguel, Bohol. She is in...   \n",
       "1419606  Lydia a 37ans et habite dans une zone rurale. ...   \n",
       "\n",
       "                                    description_translated  funded_amount  \\\n",
       "0                                                      NaN          125.0   \n",
       "1        Idalia, 57, is married and lives with her husb...          400.0   \n",
       "2                                                      NaN          400.0   \n",
       "3        Gulmira is 36 years old and married.  She and ...          625.0   \n",
       "4                                                      NaN          425.0   \n",
       "...                                                    ...            ...   \n",
       "1419602                                                NaN          400.0   \n",
       "1419603  Perlita is 52 years old, married and has three...          300.0   \n",
       "1419604  Okyeso Nyame group will begin its third cycle ...         2425.0   \n",
       "1419605  Exequila  is from San Miguel, Bohol. She is in...          100.0   \n",
       "1419606  Lydia is 37 years old and lives in a rural are...          175.0   \n",
       "\n",
       "         loan_amount  status  activity_name  sector_name  ...  \\\n",
       "0              125.0  funded  General Store       Retail  ...   \n",
       "1              400.0  funded  Used Clothing     Clothing  ...   \n",
       "2              400.0  funded  General Store       Retail  ...   \n",
       "3              625.0  funded        Farming  Agriculture  ...   \n",
       "4              425.0  funded        Farming  Agriculture  ...   \n",
       "...              ...     ...            ...          ...  ...   \n",
       "1419602        400.0  funded      Tailoring     Services  ...   \n",
       "1419603        300.0  funded           Pigs  Agriculture  ...   \n",
       "1419604       2425.0  funded         Bakery         Food  ...   \n",
       "1419605        100.0  funded        Farming  Agriculture  ...   \n",
       "1419606        175.0  funded         Sewing     Services  ...   \n",
       "\n",
       "                           raised_time lender_term num_lenders_total  \\\n",
       "0        2014-01-15 04:48:22.000 +0000         7.0                 3   \n",
       "1        2014-02-25 06:42:06.000 +0000         8.0                11   \n",
       "2        2014-01-24 23:06:18.000 +0000        14.0                16   \n",
       "3        2014-01-22 05:29:28.000 +0000        14.0                21   \n",
       "4        2014-01-14 17:29:27.000 +0000         7.0                15   \n",
       "...                                ...         ...               ...   \n",
       "1419602  2015-12-28 15:44:18.000 +0000        14.0                16   \n",
       "1419603  2015-12-22 10:37:06.000 +0000        14.0                12   \n",
       "1419604  2015-12-26 20:24:47.000 +0000         8.0                76   \n",
       "1419605  2015-12-06 21:03:57.000 +0000        12.0                 3   \n",
       "1419606  2015-12-04 23:17:04.000 +0000        14.0                 7   \n",
       "\n",
       "        num_journal_entries num_bulk_entries  \\\n",
       "0                         2                1   \n",
       "1                         2                1   \n",
       "2                         2                1   \n",
       "3                         2                1   \n",
       "4                         2                1   \n",
       "...                     ...              ...   \n",
       "1419602                   4                2   \n",
       "1419603                   1                1   \n",
       "1419604                   2                1   \n",
       "1419605                   1                1   \n",
       "1419606                   1                1   \n",
       "\n",
       "                                                      tags  \\\n",
       "0                                                      NaN   \n",
       "1                                                      NaN   \n",
       "2        #Woman Owned Biz, #Supporting Family, user_fav...   \n",
       "3                                            user_favorite   \n",
       "4                 #Animals, #Eco-friendly, #Sustainable Ag   \n",
       "...                                                    ...   \n",
       "1419602        #Parent, #Repeat Borrower, #Woman Owned Biz   \n",
       "1419603  #Animals, #Elderly, #Repeat Borrower, #Woman O...   \n",
       "1419604  user_favorite, #Parent, #Vegan, #Woman Owned B...   \n",
       "1419605                                                NaN   \n",
       "1419606                                                NaN   \n",
       "\n",
       "                                   borrower_genders  \\\n",
       "0                                            female   \n",
       "1                                            female   \n",
       "2                                            female   \n",
       "3                                            female   \n",
       "4                                              male   \n",
       "...                                             ...   \n",
       "1419602                                         NaN   \n",
       "1419603                                      female   \n",
       "1419604  female, female, female, male, male, female   \n",
       "1419605                                      female   \n",
       "1419606                                      female   \n",
       "\n",
       "                          borrower_pictured repayment_interval  \\\n",
       "0                                      true          irregular   \n",
       "1                                      true            monthly   \n",
       "2                                      true            monthly   \n",
       "3                                      true            monthly   \n",
       "4                                      true             bullet   \n",
       "...                                     ...                ...   \n",
       "1419602                                 NaN            monthly   \n",
       "1419603                                true          irregular   \n",
       "1419604  true, true, true, true, true, true          irregular   \n",
       "1419605                                true          irregular   \n",
       "1419606                                true            monthly   \n",
       "\n",
       "        distribution_model  \n",
       "0            field_partner  \n",
       "1            field_partner  \n",
       "2            field_partner  \n",
       "3            field_partner  \n",
       "4            field_partner  \n",
       "...                    ...  \n",
       "1419602      field_partner  \n",
       "1419603      field_partner  \n",
       "1419604      field_partner  \n",
       "1419605      field_partner  \n",
       "1419606      field_partner  \n",
       "\n",
       "[1419607 rows x 31 columns]"
      ]
     },
     "execution_count": 4,
     "metadata": {},
     "output_type": "execute_result"
    }
   ],
   "source": [
    "if not FINAL:\n",
    "    loans = loans.head(20000)\n",
    "loans"
   ]
  },
  {
   "cell_type": "markdown",
   "metadata": {},
   "source": [
    "We are now mainly interested in columns 'planned_expiration_time', 'disburse_time':"
   ]
  },
  {
   "cell_type": "code",
   "execution_count": 5,
   "metadata": {},
   "outputs": [
    {
     "data": {
      "text/html": [
       "<div>\n",
       "<style scoped>\n",
       "    .dataframe tbody tr th:only-of-type {\n",
       "        vertical-align: middle;\n",
       "    }\n",
       "\n",
       "    .dataframe tbody tr th {\n",
       "        vertical-align: top;\n",
       "    }\n",
       "\n",
       "    .dataframe thead th {\n",
       "        text-align: right;\n",
       "    }\n",
       "</style>\n",
       "<table border=\"1\" class=\"dataframe\">\n",
       "  <thead>\n",
       "    <tr style=\"text-align: right;\">\n",
       "      <th></th>\n",
       "      <th>loan_id</th>\n",
       "      <th>loan_name</th>\n",
       "      <th>planned_expiration_time</th>\n",
       "      <th>disburse_time</th>\n",
       "    </tr>\n",
       "  </thead>\n",
       "  <tbody>\n",
       "    <tr>\n",
       "      <td>0</td>\n",
       "      <td>657307</td>\n",
       "      <td>Aivy</td>\n",
       "      <td>2014-02-14 03:30:06.000 +0000</td>\n",
       "      <td>2013-12-22 08:00:00.000 +0000</td>\n",
       "    </tr>\n",
       "    <tr>\n",
       "      <td>1</td>\n",
       "      <td>657259</td>\n",
       "      <td>Idalia Marizza</td>\n",
       "      <td>2014-03-26 22:25:07.000 +0000</td>\n",
       "      <td>2013-12-20 08:00:00.000 +0000</td>\n",
       "    </tr>\n",
       "    <tr>\n",
       "      <td>2</td>\n",
       "      <td>658010</td>\n",
       "      <td>Aasia</td>\n",
       "      <td>2014-02-15 21:10:05.000 +0000</td>\n",
       "      <td>2014-01-09 08:00:00.000 +0000</td>\n",
       "    </tr>\n",
       "    <tr>\n",
       "      <td>3</td>\n",
       "      <td>659347</td>\n",
       "      <td>Gulmira</td>\n",
       "      <td>2014-02-21 03:10:02.000 +0000</td>\n",
       "      <td>2014-01-17 08:00:00.000 +0000</td>\n",
       "    </tr>\n",
       "    <tr>\n",
       "      <td>4</td>\n",
       "      <td>656933</td>\n",
       "      <td>Ricky\\t</td>\n",
       "      <td>2014-02-13 06:10:02.000 +0000</td>\n",
       "      <td>2013-12-17 08:00:00.000 +0000</td>\n",
       "    </tr>\n",
       "    <tr>\n",
       "      <td>...</td>\n",
       "      <td>...</td>\n",
       "      <td>...</td>\n",
       "      <td>...</td>\n",
       "      <td>...</td>\n",
       "    </tr>\n",
       "    <tr>\n",
       "      <td>1419602</td>\n",
       "      <td>988180</td>\n",
       "      <td>NaN</td>\n",
       "      <td>2016-01-02 01:00:03.000 +0000</td>\n",
       "      <td>2015-11-23 08:00:00.000 +0000</td>\n",
       "    </tr>\n",
       "    <tr>\n",
       "      <td>1419603</td>\n",
       "      <td>988213</td>\n",
       "      <td>Perlita</td>\n",
       "      <td>2016-01-02 16:40:07.000 +0000</td>\n",
       "      <td>2015-11-24 08:00:00.000 +0000</td>\n",
       "    </tr>\n",
       "    <tr>\n",
       "      <td>1419604</td>\n",
       "      <td>989109</td>\n",
       "      <td>Okyeso Nyame Group</td>\n",
       "      <td>2016-01-03 22:20:04.000 +0000</td>\n",
       "      <td>2015-11-13 08:00:00.000 +0000</td>\n",
       "    </tr>\n",
       "    <tr>\n",
       "      <td>1419605</td>\n",
       "      <td>989143</td>\n",
       "      <td>Exequila</td>\n",
       "      <td>2016-01-05 08:50:02.000 +0000</td>\n",
       "      <td>2015-11-03 08:00:00.000 +0000</td>\n",
       "    </tr>\n",
       "    <tr>\n",
       "      <td>1419606</td>\n",
       "      <td>989240</td>\n",
       "      <td>Lydia</td>\n",
       "      <td>2016-01-03 20:50:06.000 +0000</td>\n",
       "      <td>2015-11-03 08:00:00.000 +0000</td>\n",
       "    </tr>\n",
       "  </tbody>\n",
       "</table>\n",
       "<p>1419607 rows × 4 columns</p>\n",
       "</div>"
      ],
      "text/plain": [
       "         loan_id           loan_name        planned_expiration_time  \\\n",
       "0         657307                Aivy  2014-02-14 03:30:06.000 +0000   \n",
       "1         657259      Idalia Marizza  2014-03-26 22:25:07.000 +0000   \n",
       "2         658010               Aasia  2014-02-15 21:10:05.000 +0000   \n",
       "3         659347             Gulmira  2014-02-21 03:10:02.000 +0000   \n",
       "4         656933             Ricky\\t  2014-02-13 06:10:02.000 +0000   \n",
       "...          ...                 ...                            ...   \n",
       "1419602   988180                 NaN  2016-01-02 01:00:03.000 +0000   \n",
       "1419603   988213             Perlita  2016-01-02 16:40:07.000 +0000   \n",
       "1419604   989109  Okyeso Nyame Group  2016-01-03 22:20:04.000 +0000   \n",
       "1419605   989143            Exequila  2016-01-05 08:50:02.000 +0000   \n",
       "1419606   989240               Lydia  2016-01-03 20:50:06.000 +0000   \n",
       "\n",
       "                         disburse_time  \n",
       "0        2013-12-22 08:00:00.000 +0000  \n",
       "1        2013-12-20 08:00:00.000 +0000  \n",
       "2        2014-01-09 08:00:00.000 +0000  \n",
       "3        2014-01-17 08:00:00.000 +0000  \n",
       "4        2013-12-17 08:00:00.000 +0000  \n",
       "...                                ...  \n",
       "1419602  2015-11-23 08:00:00.000 +0000  \n",
       "1419603  2015-11-24 08:00:00.000 +0000  \n",
       "1419604  2015-11-13 08:00:00.000 +0000  \n",
       "1419605  2015-11-03 08:00:00.000 +0000  \n",
       "1419606  2015-11-03 08:00:00.000 +0000  \n",
       "\n",
       "[1419607 rows x 4 columns]"
      ]
     },
     "execution_count": 5,
     "metadata": {},
     "output_type": "execute_result"
    }
   ],
   "source": [
    "loans_sel = loans[ ['loan_id', 'loan_name','planned_expiration_time', 'disburse_time'] ]\n",
    "loans_sel"
   ]
  },
  {
   "cell_type": "code",
   "execution_count": 6,
   "metadata": {
    "scrolled": true
   },
   "outputs": [
    {
     "ename": "KeyboardInterrupt",
     "evalue": "",
     "output_type": "error",
     "traceback": [
      "\u001b[1;31m---------------------------------------------------------------------------\u001b[0m",
      "\u001b[1;31mKeyboardInterrupt\u001b[0m                         Traceback (most recent call last)",
      "\u001b[1;32m<ipython-input-6-fe2160c1ea0a>\u001b[0m in \u001b[0;36m<module>\u001b[1;34m\u001b[0m\n\u001b[0;32m      9\u001b[0m         \u001b[0md2\u001b[0m \u001b[1;33m=\u001b[0m \u001b[0mdt\u001b[0m\u001b[1;33m.\u001b[0m\u001b[0mstrptime\u001b[0m\u001b[1;33m(\u001b[0m\u001b[0ms2\u001b[0m\u001b[1;33m,\u001b[0m \u001b[1;34m\"%Y-%m-%d %H:%M:%S.%f %z\"\u001b[0m\u001b[1;33m)\u001b[0m\u001b[1;33m\u001b[0m\u001b[1;33m\u001b[0m\u001b[0m\n\u001b[0;32m     10\u001b[0m         \u001b[0md1\u001b[0m \u001b[1;33m=\u001b[0m \u001b[0mdt\u001b[0m\u001b[1;33m.\u001b[0m\u001b[0mstrptime\u001b[0m\u001b[1;33m(\u001b[0m\u001b[0ms1\u001b[0m\u001b[1;33m,\u001b[0m \u001b[1;34m\"%Y-%m-%d %H:%M:%S.%f %z\"\u001b[0m\u001b[1;33m)\u001b[0m\u001b[1;33m\u001b[0m\u001b[1;33m\u001b[0m\u001b[0m\n\u001b[1;32m---> 11\u001b[1;33m         \u001b[0mloans\u001b[0m\u001b[1;33m.\u001b[0m\u001b[0mloc\u001b[0m\u001b[1;33m[\u001b[0m\u001b[0mindex\u001b[0m\u001b[1;33m,\u001b[0m\u001b[1;34m'duration'\u001b[0m\u001b[1;33m]\u001b[0m \u001b[1;33m=\u001b[0m \u001b[1;33m(\u001b[0m\u001b[0md2\u001b[0m \u001b[1;33m-\u001b[0m \u001b[0md1\u001b[0m\u001b[1;33m)\u001b[0m\u001b[1;33m.\u001b[0m\u001b[0mdays\u001b[0m\u001b[1;33m\u001b[0m\u001b[1;33m\u001b[0m\u001b[0m\n\u001b[0m\u001b[0;32m     12\u001b[0m \u001b[0mloans_sel\u001b[0m \u001b[1;33m=\u001b[0m \u001b[0mloans\u001b[0m\u001b[1;33m[\u001b[0m \u001b[1;33m[\u001b[0m\u001b[1;34m'loan_id'\u001b[0m\u001b[1;33m,\u001b[0m \u001b[1;34m'loan_name'\u001b[0m\u001b[1;33m,\u001b[0m\u001b[1;34m'planned_expiration_time'\u001b[0m\u001b[1;33m,\u001b[0m \u001b[1;34m'disburse_time'\u001b[0m\u001b[1;33m,\u001b[0m \u001b[1;34m'duration'\u001b[0m\u001b[1;33m]\u001b[0m \u001b[1;33m]\u001b[0m\u001b[1;33m\u001b[0m\u001b[1;33m\u001b[0m\u001b[0m\n\u001b[0;32m     13\u001b[0m \u001b[0mprint\u001b[0m\u001b[1;33m(\u001b[0m\u001b[1;34m\"--- %s seconds ---\"\u001b[0m \u001b[1;33m%\u001b[0m \u001b[1;33m(\u001b[0m\u001b[0mtm\u001b[0m\u001b[1;33m.\u001b[0m\u001b[0mtime\u001b[0m\u001b[1;33m(\u001b[0m\u001b[1;33m)\u001b[0m\u001b[1;33m-\u001b[0m\u001b[0mstart_time\u001b[0m\u001b[1;33m)\u001b[0m\u001b[1;33m)\u001b[0m\u001b[1;33m\u001b[0m\u001b[1;33m\u001b[0m\u001b[0m\n",
      "\u001b[1;32mD:\\Appl\\Anaconda3\\lib\\site-packages\\pandas\\core\\indexing.py\u001b[0m in \u001b[0;36m__setitem__\u001b[1;34m(self, key, value)\u001b[0m\n\u001b[0;32m    203\u001b[0m             \u001b[0mkey\u001b[0m \u001b[1;33m=\u001b[0m \u001b[0mcom\u001b[0m\u001b[1;33m.\u001b[0m\u001b[0mapply_if_callable\u001b[0m\u001b[1;33m(\u001b[0m\u001b[0mkey\u001b[0m\u001b[1;33m,\u001b[0m \u001b[0mself\u001b[0m\u001b[1;33m.\u001b[0m\u001b[0mobj\u001b[0m\u001b[1;33m)\u001b[0m\u001b[1;33m\u001b[0m\u001b[1;33m\u001b[0m\u001b[0m\n\u001b[0;32m    204\u001b[0m         \u001b[0mindexer\u001b[0m \u001b[1;33m=\u001b[0m \u001b[0mself\u001b[0m\u001b[1;33m.\u001b[0m\u001b[0m_get_setitem_indexer\u001b[0m\u001b[1;33m(\u001b[0m\u001b[0mkey\u001b[0m\u001b[1;33m)\u001b[0m\u001b[1;33m\u001b[0m\u001b[1;33m\u001b[0m\u001b[0m\n\u001b[1;32m--> 205\u001b[1;33m         \u001b[0mself\u001b[0m\u001b[1;33m.\u001b[0m\u001b[0m_setitem_with_indexer\u001b[0m\u001b[1;33m(\u001b[0m\u001b[0mindexer\u001b[0m\u001b[1;33m,\u001b[0m \u001b[0mvalue\u001b[0m\u001b[1;33m)\u001b[0m\u001b[1;33m\u001b[0m\u001b[1;33m\u001b[0m\u001b[0m\n\u001b[0m\u001b[0;32m    206\u001b[0m \u001b[1;33m\u001b[0m\u001b[0m\n\u001b[0;32m    207\u001b[0m     \u001b[1;32mdef\u001b[0m \u001b[0m_validate_key\u001b[0m\u001b[1;33m(\u001b[0m\u001b[0mself\u001b[0m\u001b[1;33m,\u001b[0m \u001b[0mkey\u001b[0m\u001b[1;33m,\u001b[0m \u001b[0maxis\u001b[0m\u001b[1;33m:\u001b[0m \u001b[0mint\u001b[0m\u001b[1;33m)\u001b[0m\u001b[1;33m:\u001b[0m\u001b[1;33m\u001b[0m\u001b[1;33m\u001b[0m\u001b[0m\n",
      "\u001b[1;32mD:\\Appl\\Anaconda3\\lib\\site-packages\\pandas\\core\\indexing.py\u001b[0m in \u001b[0;36m_setitem_with_indexer\u001b[1;34m(self, indexer, value)\u001b[0m\n\u001b[0;32m    555\u001b[0m                 \u001b[1;31m# scalar\u001b[0m\u001b[1;33m\u001b[0m\u001b[1;33m\u001b[0m\u001b[1;33m\u001b[0m\u001b[0m\n\u001b[0;32m    556\u001b[0m                 \u001b[1;32mfor\u001b[0m \u001b[0mitem\u001b[0m \u001b[1;32min\u001b[0m \u001b[0mlabels\u001b[0m\u001b[1;33m:\u001b[0m\u001b[1;33m\u001b[0m\u001b[1;33m\u001b[0m\u001b[0m\n\u001b[1;32m--> 557\u001b[1;33m                     \u001b[0msetter\u001b[0m\u001b[1;33m(\u001b[0m\u001b[0mitem\u001b[0m\u001b[1;33m,\u001b[0m \u001b[0mvalue\u001b[0m\u001b[1;33m)\u001b[0m\u001b[1;33m\u001b[0m\u001b[1;33m\u001b[0m\u001b[0m\n\u001b[0m\u001b[0;32m    558\u001b[0m \u001b[1;33m\u001b[0m\u001b[0m\n\u001b[0;32m    559\u001b[0m         \u001b[1;32melse\u001b[0m\u001b[1;33m:\u001b[0m\u001b[1;33m\u001b[0m\u001b[1;33m\u001b[0m\u001b[0m\n",
      "\u001b[1;32mD:\\Appl\\Anaconda3\\lib\\site-packages\\pandas\\core\\indexing.py\u001b[0m in \u001b[0;36msetter\u001b[1;34m(item, v)\u001b[0m\n\u001b[0;32m    487\u001b[0m                     \u001b[1;31m# set the item, possibly having a dtype change\u001b[0m\u001b[1;33m\u001b[0m\u001b[1;33m\u001b[0m\u001b[1;33m\u001b[0m\u001b[0m\n\u001b[0;32m    488\u001b[0m                     \u001b[0ms\u001b[0m\u001b[1;33m.\u001b[0m\u001b[0m_consolidate_inplace\u001b[0m\u001b[1;33m(\u001b[0m\u001b[1;33m)\u001b[0m\u001b[1;33m\u001b[0m\u001b[1;33m\u001b[0m\u001b[0m\n\u001b[1;32m--> 489\u001b[1;33m                     \u001b[0ms\u001b[0m \u001b[1;33m=\u001b[0m \u001b[0ms\u001b[0m\u001b[1;33m.\u001b[0m\u001b[0mcopy\u001b[0m\u001b[1;33m(\u001b[0m\u001b[1;33m)\u001b[0m\u001b[1;33m\u001b[0m\u001b[1;33m\u001b[0m\u001b[0m\n\u001b[0m\u001b[0;32m    490\u001b[0m                     \u001b[0ms\u001b[0m\u001b[1;33m.\u001b[0m\u001b[0m_data\u001b[0m \u001b[1;33m=\u001b[0m \u001b[0ms\u001b[0m\u001b[1;33m.\u001b[0m\u001b[0m_data\u001b[0m\u001b[1;33m.\u001b[0m\u001b[0msetitem\u001b[0m\u001b[1;33m(\u001b[0m\u001b[0mindexer\u001b[0m\u001b[1;33m=\u001b[0m\u001b[0mpi\u001b[0m\u001b[1;33m,\u001b[0m \u001b[0mvalue\u001b[0m\u001b[1;33m=\u001b[0m\u001b[0mv\u001b[0m\u001b[1;33m)\u001b[0m\u001b[1;33m\u001b[0m\u001b[1;33m\u001b[0m\u001b[0m\n\u001b[0;32m    491\u001b[0m                     \u001b[0ms\u001b[0m\u001b[1;33m.\u001b[0m\u001b[0m_maybe_update_cacher\u001b[0m\u001b[1;33m(\u001b[0m\u001b[0mclear\u001b[0m\u001b[1;33m=\u001b[0m\u001b[1;32mTrue\u001b[0m\u001b[1;33m)\u001b[0m\u001b[1;33m\u001b[0m\u001b[1;33m\u001b[0m\u001b[0m\n",
      "\u001b[1;32mD:\\Appl\\Anaconda3\\lib\\site-packages\\pandas\\core\\generic.py\u001b[0m in \u001b[0;36mcopy\u001b[1;34m(self, deep)\u001b[0m\n\u001b[0;32m   5994\u001b[0m         \u001b[0mdtype\u001b[0m\u001b[1;33m:\u001b[0m \u001b[0mobject\u001b[0m\u001b[1;33m\u001b[0m\u001b[1;33m\u001b[0m\u001b[0m\n\u001b[0;32m   5995\u001b[0m         \"\"\"\n\u001b[1;32m-> 5996\u001b[1;33m         \u001b[0mdata\u001b[0m \u001b[1;33m=\u001b[0m \u001b[0mself\u001b[0m\u001b[1;33m.\u001b[0m\u001b[0m_data\u001b[0m\u001b[1;33m.\u001b[0m\u001b[0mcopy\u001b[0m\u001b[1;33m(\u001b[0m\u001b[0mdeep\u001b[0m\u001b[1;33m=\u001b[0m\u001b[0mdeep\u001b[0m\u001b[1;33m)\u001b[0m\u001b[1;33m\u001b[0m\u001b[1;33m\u001b[0m\u001b[0m\n\u001b[0m\u001b[0;32m   5997\u001b[0m         \u001b[1;32mreturn\u001b[0m \u001b[0mself\u001b[0m\u001b[1;33m.\u001b[0m\u001b[0m_constructor\u001b[0m\u001b[1;33m(\u001b[0m\u001b[0mdata\u001b[0m\u001b[1;33m)\u001b[0m\u001b[1;33m.\u001b[0m\u001b[0m__finalize__\u001b[0m\u001b[1;33m(\u001b[0m\u001b[0mself\u001b[0m\u001b[1;33m)\u001b[0m\u001b[1;33m\u001b[0m\u001b[1;33m\u001b[0m\u001b[0m\n\u001b[0;32m   5998\u001b[0m \u001b[1;33m\u001b[0m\u001b[0m\n",
      "\u001b[1;32mD:\\Appl\\Anaconda3\\lib\\site-packages\\pandas\\core\\internals\\managers.py\u001b[0m in \u001b[0;36mcopy\u001b[1;34m(self, deep)\u001b[0m\n\u001b[0;32m    786\u001b[0m         \u001b[1;32melse\u001b[0m\u001b[1;33m:\u001b[0m\u001b[1;33m\u001b[0m\u001b[1;33m\u001b[0m\u001b[0m\n\u001b[0;32m    787\u001b[0m             \u001b[0mnew_axes\u001b[0m \u001b[1;33m=\u001b[0m \u001b[0mlist\u001b[0m\u001b[1;33m(\u001b[0m\u001b[0mself\u001b[0m\u001b[1;33m.\u001b[0m\u001b[0maxes\u001b[0m\u001b[1;33m)\u001b[0m\u001b[1;33m\u001b[0m\u001b[1;33m\u001b[0m\u001b[0m\n\u001b[1;32m--> 788\u001b[1;33m         \u001b[1;32mreturn\u001b[0m \u001b[0mself\u001b[0m\u001b[1;33m.\u001b[0m\u001b[0mapply\u001b[0m\u001b[1;33m(\u001b[0m\u001b[1;34m\"copy\"\u001b[0m\u001b[1;33m,\u001b[0m \u001b[0maxes\u001b[0m\u001b[1;33m=\u001b[0m\u001b[0mnew_axes\u001b[0m\u001b[1;33m,\u001b[0m \u001b[0mdeep\u001b[0m\u001b[1;33m=\u001b[0m\u001b[0mdeep\u001b[0m\u001b[1;33m,\u001b[0m \u001b[0mdo_integrity_check\u001b[0m\u001b[1;33m=\u001b[0m\u001b[1;32mFalse\u001b[0m\u001b[1;33m)\u001b[0m\u001b[1;33m\u001b[0m\u001b[1;33m\u001b[0m\u001b[0m\n\u001b[0m\u001b[0;32m    789\u001b[0m \u001b[1;33m\u001b[0m\u001b[0m\n\u001b[0;32m    790\u001b[0m     \u001b[1;32mdef\u001b[0m \u001b[0mas_array\u001b[0m\u001b[1;33m(\u001b[0m\u001b[0mself\u001b[0m\u001b[1;33m,\u001b[0m \u001b[0mtranspose\u001b[0m\u001b[1;33m=\u001b[0m\u001b[1;32mFalse\u001b[0m\u001b[1;33m,\u001b[0m \u001b[0mitems\u001b[0m\u001b[1;33m=\u001b[0m\u001b[1;32mNone\u001b[0m\u001b[1;33m)\u001b[0m\u001b[1;33m:\u001b[0m\u001b[1;33m\u001b[0m\u001b[1;33m\u001b[0m\u001b[0m\n",
      "\u001b[1;32mD:\\Appl\\Anaconda3\\lib\\site-packages\\pandas\\core\\internals\\managers.py\u001b[0m in \u001b[0;36mapply\u001b[1;34m(self, f, axes, filter, do_integrity_check, consolidate, **kwargs)\u001b[0m\n\u001b[0;32m    436\u001b[0m                     \u001b[0mkwargs\u001b[0m\u001b[1;33m[\u001b[0m\u001b[0mk\u001b[0m\u001b[1;33m]\u001b[0m \u001b[1;33m=\u001b[0m \u001b[0mobj\u001b[0m\u001b[1;33m.\u001b[0m\u001b[0mreindex\u001b[0m\u001b[1;33m(\u001b[0m\u001b[0mb_items\u001b[0m\u001b[1;33m,\u001b[0m \u001b[0maxis\u001b[0m\u001b[1;33m=\u001b[0m\u001b[0maxis\u001b[0m\u001b[1;33m,\u001b[0m \u001b[0mcopy\u001b[0m\u001b[1;33m=\u001b[0m\u001b[0malign_copy\u001b[0m\u001b[1;33m)\u001b[0m\u001b[1;33m\u001b[0m\u001b[1;33m\u001b[0m\u001b[0m\n\u001b[0;32m    437\u001b[0m \u001b[1;33m\u001b[0m\u001b[0m\n\u001b[1;32m--> 438\u001b[1;33m             \u001b[0mapplied\u001b[0m \u001b[1;33m=\u001b[0m \u001b[0mgetattr\u001b[0m\u001b[1;33m(\u001b[0m\u001b[0mb\u001b[0m\u001b[1;33m,\u001b[0m \u001b[0mf\u001b[0m\u001b[1;33m)\u001b[0m\u001b[1;33m(\u001b[0m\u001b[1;33m**\u001b[0m\u001b[0mkwargs\u001b[0m\u001b[1;33m)\u001b[0m\u001b[1;33m\u001b[0m\u001b[1;33m\u001b[0m\u001b[0m\n\u001b[0m\u001b[0;32m    439\u001b[0m             \u001b[0mresult_blocks\u001b[0m \u001b[1;33m=\u001b[0m \u001b[0m_extend_blocks\u001b[0m\u001b[1;33m(\u001b[0m\u001b[0mapplied\u001b[0m\u001b[1;33m,\u001b[0m \u001b[0mresult_blocks\u001b[0m\u001b[1;33m)\u001b[0m\u001b[1;33m\u001b[0m\u001b[1;33m\u001b[0m\u001b[0m\n\u001b[0;32m    440\u001b[0m \u001b[1;33m\u001b[0m\u001b[0m\n",
      "\u001b[1;32mD:\\Appl\\Anaconda3\\lib\\site-packages\\pandas\\core\\internals\\blocks.py\u001b[0m in \u001b[0;36mcopy\u001b[1;34m(self, deep)\u001b[0m\n\u001b[0;32m    771\u001b[0m         \u001b[1;32mif\u001b[0m \u001b[0mdeep\u001b[0m\u001b[1;33m:\u001b[0m\u001b[1;33m\u001b[0m\u001b[1;33m\u001b[0m\u001b[0m\n\u001b[0;32m    772\u001b[0m             \u001b[0mvalues\u001b[0m \u001b[1;33m=\u001b[0m \u001b[0mvalues\u001b[0m\u001b[1;33m.\u001b[0m\u001b[0mcopy\u001b[0m\u001b[1;33m(\u001b[0m\u001b[1;33m)\u001b[0m\u001b[1;33m\u001b[0m\u001b[1;33m\u001b[0m\u001b[0m\n\u001b[1;32m--> 773\u001b[1;33m         \u001b[1;32mreturn\u001b[0m \u001b[0mself\u001b[0m\u001b[1;33m.\u001b[0m\u001b[0mmake_block_same_class\u001b[0m\u001b[1;33m(\u001b[0m\u001b[0mvalues\u001b[0m\u001b[1;33m,\u001b[0m \u001b[0mndim\u001b[0m\u001b[1;33m=\u001b[0m\u001b[0mself\u001b[0m\u001b[1;33m.\u001b[0m\u001b[0mndim\u001b[0m\u001b[1;33m)\u001b[0m\u001b[1;33m\u001b[0m\u001b[1;33m\u001b[0m\u001b[0m\n\u001b[0m\u001b[0;32m    774\u001b[0m \u001b[1;33m\u001b[0m\u001b[0m\n\u001b[0;32m    775\u001b[0m     def replace(\n",
      "\u001b[1;31mKeyboardInterrupt\u001b[0m: "
     ]
    }
   ],
   "source": [
    "from datetime import datetime as dt\n",
    "import time as tm\n",
    "start_time = tm.time()\n",
    "loans['duration'] = None\n",
    "for index, row in loans.iterrows(): \n",
    "    s2 = row['planned_expiration_time']\n",
    "    s1 = row['disburse_time']\n",
    "    if( pd.notna(s1) and pd.notna(s2) and s1 != '' and s2 != ''):\n",
    "        d2 = dt.strptime(s2, \"%Y-%m-%d %H:%M:%S.%f %z\")\n",
    "        d1 = dt.strptime(s1, \"%Y-%m-%d %H:%M:%S.%f %z\")\n",
    "        loans.loc[index,'duration'] = (d2 - d1).days \n",
    "loans_sel = loans[ ['loan_id', 'loan_name','planned_expiration_time', 'disburse_time', 'duration'] ]\n",
    "print(\"--- %s seconds ---\" % (tm.time()-start_time)) \n",
    "loans_sel"
   ]
  },
  {
   "cell_type": "markdown",
   "metadata": {},
   "source": [
    "`3.` Find the lenders that have funded at least twice."
   ]
  },
  {
   "cell_type": "markdown",
   "metadata": {},
   "source": [
    "Those are lenders that are duplicated in structured loan_leneders dataframe.\n"
   ]
  },
  {
   "cell_type": "markdown",
   "metadata": {},
   "source": [
    "- One possible solution is based on calculation/counting using dicitionary object:"
   ]
  },
  {
   "cell_type": "code",
   "execution_count": null,
   "metadata": {},
   "outputs": [],
   "source": [
    "import time as tm\n",
    "start_time = tm.time()\n",
    "stat={}\n",
    "for index, row in loans_lender.iterrows(): \n",
    "    lender = row['lender']\n",
    "    stat[lender] = 1 + stat.get(lender, 0)\n",
    "lenders_funded_2_more = []\n",
    "for k in stat.keys():\n",
    "    if( stat[k] >= 2):\n",
    "        lenders_funded_2_more.append((k,stat[k]))\n",
    "print(\"--- %s seconds ---\" % (tm.time()-start_time)) \n",
    "lenders_funded_2_more"
   ]
  },
  {
   "cell_type": "raw",
   "metadata": {},
   "source": [
    "- Alternative solution is based on panda functionality:"
   ]
  },
  {
   "cell_type": "code",
   "execution_count": null,
   "metadata": {
    "scrolled": true
   },
   "outputs": [],
   "source": [
    "import time as tm\n",
    "start_time = tm.time()\n",
    "loans_lender_2_more = loans_lender[loans_lender.duplicated(['lender'])]\n",
    "lenders_funded_2_more = list(set(loans_lender_2_more['lender']))\n",
    "print(\"--- %s seconds ---\" % (tm.time()-start_time)) \n",
    "lenders_funded_2_more"
   ]
  },
  {
   "cell_type": "markdown",
   "metadata": {},
   "source": [
    "`4.` For each country, compute how many loans have involved that country as borrowers."
   ]
  },
  {
   "cell_type": "markdown",
   "metadata": {},
   "source": [
    "- One solution is based on calculation/counting using dicitionary object:"
   ]
  },
  {
   "cell_type": "code",
   "execution_count": null,
   "metadata": {},
   "outputs": [],
   "source": [
    "import time as tm\n",
    "start_time = tm.time()\n",
    "stat={}\n",
    "for index, row in loans.iterrows(): \n",
    "    cn = row['country_name']\n",
    "    cc = row['country_code']\n",
    "    stat[(cc,cn)] = 1 + stat.get((cc,cn), 0)\n",
    "print(\"--- %s seconds ---\" % (tm.time()-start_time)) \n",
    "stat"
   ]
  },
  {
   "cell_type": "markdown",
   "metadata": {},
   "source": [
    "- Another solution is based on panda grouping:"
   ]
  },
  {
   "cell_type": "code",
   "execution_count": null,
   "metadata": {},
   "outputs": [],
   "source": [
    "import time as tm\n",
    "start_time = tm.time()\n",
    "loans_count = loans.groupby(['country_code','country_name'], as_index=False)[['loan_id']].count()\n",
    "print(\"--- %s seconds ---\" % (tm.time()-start_time)) \n",
    "loans_count"
   ]
  },
  {
   "cell_type": "markdown",
   "metadata": {},
   "source": [
    "`5.` For each country, compute the overall amount of money borrowed.\n"
   ]
  },
  {
   "cell_type": "markdown",
   "metadata": {},
   "source": [
    "- One solution is based on calculation/sum using dicitionary object:"
   ]
  },
  {
   "cell_type": "code",
   "execution_count": null,
   "metadata": {},
   "outputs": [],
   "source": [
    "import time as tm\n",
    "start_time = tm.time()\n",
    "stat={}\n",
    "for index, row in loans.iterrows(): \n",
    "    cn = row['country_name']\n",
    "    cc = row['country_code']\n",
    "    stat[(cc,cn)] = stat.get((cc,cn), 0) + row['loan_amount']\n",
    "print(\"--- %s seconds ---\" % (tm.time()-start_time)) \n",
    "stat"
   ]
  },
  {
   "cell_type": "markdown",
   "metadata": {},
   "source": [
    "- Another solution is based on panda grouping:"
   ]
  },
  {
   "cell_type": "code",
   "execution_count": null,
   "metadata": {},
   "outputs": [],
   "source": [
    "import time as tm\n",
    "start_time = tm.time()\n",
    "loans_sum = loans.groupby(['country_code','country_name'], as_index = False)[['loan_amount']].sum()\n",
    "print(\"--- %s seconds ---\" % (tm.time()-start_time)) \n",
    "loans_sum"
   ]
  },
  {
   "cell_type": "markdown",
   "metadata": {},
   "source": [
    "`6.` Like the previous point, but expressed as a percentage of the overall amount lent.\n"
   ]
  },
  {
   "cell_type": "markdown",
   "metadata": {},
   "source": [
    "- One solution is based on calculation using dicitionary object:"
   ]
  },
  {
   "cell_type": "code",
   "execution_count": null,
   "metadata": {},
   "outputs": [],
   "source": [
    "import time as tm\n",
    "start_time = tm.time()\n",
    "stat={}\n",
    "total = 0\n",
    "for index, row in loans.iterrows(): \n",
    "    cn = row['country_name']\n",
    "    cc = row['country_code']\n",
    "    stat[(cc,cn)] = stat.get((cc,cn), 0) + row['loan_amount']\n",
    "    total += row['loan_amount']\n",
    "for k in stat.keys():\n",
    "    stat[k] = stat[k]/total*100\n",
    "print(\"--- %s seconds ---\" % (tm.time()-start_time)) \n",
    "stat"
   ]
  },
  {
   "cell_type": "markdown",
   "metadata": {},
   "source": [
    "- Another solution is based on panda functions:"
   ]
  },
  {
   "cell_type": "code",
   "execution_count": null,
   "metadata": {},
   "outputs": [],
   "source": [
    "import time as tm\n",
    "start_time = tm.time()\n",
    "loans_total = loans['loan_amount'].sum()\n",
    "loans_percent = loans.groupby(['country_code','country_name'], as_index = False)[['loan_amount']].sum()\n",
    "loans_percent['percent'] = loans_percent['loan_amount']/loans_total*100\n",
    "print(\"--- %s seconds ---\" % (tm.time()-start_time)) \n",
    "loans_percent"
   ]
  },
  {
   "cell_type": "markdown",
   "metadata": {},
   "source": [
    "`7.` Like the three previous points, but split for each year (with respect to `disburse time`).\n"
   ]
  },
  {
   "cell_type": "markdown",
   "metadata": {},
   "source": [
    "- One solution is based on calculation using dicitionary object:"
   ]
  },
  {
   "cell_type": "code",
   "execution_count": null,
   "metadata": {},
   "outputs": [],
   "source": [
    "from datetime import datetime as dt\n",
    "import time as tm\n",
    "start_time = tm.time()\n",
    "stat={}\n",
    "total = 0\n",
    "for index, row in loans.iterrows(): \n",
    "    cn = row['country_name']\n",
    "    cc = row['country_code']\n",
    "    y = dt.strptime(row['disburse_time'], \"%Y-%m-%d %H:%M:%S.%f %z\").year\n",
    "    triplet = stat.get((cc,cn,y), (0,0,0))\n",
    "    stat[(cc,cn,y)] =  (triplet[0] + 1, triplet[1] + row['loan_amount'], None)\n",
    "    total += row['loan_amount']\n",
    "for k in stat.keys():\n",
    "    triplet = stat[k]\n",
    "    stat[k]= (triplet[0], triplet[1], triplet[1]/total*100)\n",
    "print(\"--- %s seconds ---\" % (tm.time()-start_time)) \n",
    "stat"
   ]
  },
  {
   "cell_type": "markdown",
   "metadata": {},
   "source": [
    "- Another solution is based on panda functions:"
   ]
  },
  {
   "cell_type": "code",
   "execution_count": null,
   "metadata": {},
   "outputs": [],
   "source": [
    "import time as tm\n",
    "start_time = tm.time()\n",
    "from datetime import datetime as dt\n",
    "loans_total = loans['loan_amount'].sum()\n",
    "loans['disburse_time_year'] = None\n",
    "for index, row in loans.iterrows(): \n",
    "    y = dt.strptime(row['disburse_time'], \"%Y-%m-%d %H:%M:%S.%f %z\").year\n",
    "    loans.loc[index,'disburse_time_year'] = y \n",
    "loans_agg = loans.groupby(['country_code','country_name','disburse_time_year'], as_index = False).agg({'loan_amount':['count', 'sum', lambda x: x.sum()/total*100]})\n",
    "loans_agg.columns = loans_agg.columns.droplevel(0)\n",
    "print(\"--- %s seconds ---\" % (tm.time()-start_time)) \n",
    "loans_agg"
   ]
  },
  {
   "cell_type": "markdown",
   "metadata": {},
   "source": [
    "- Third way for solving problem, based on panda functions:"
   ]
  },
  {
   "cell_type": "code",
   "execution_count": null,
   "metadata": {},
   "outputs": [],
   "source": [
    "from datetime import datetime as dt\n",
    "import time as tm\n",
    "start_time = tm.time()\n",
    "loans_total = loans['loan_amount'].sum()\n",
    "print(\"--- %s seconds ---\" % (tm.time()-start_time)) \n",
    "loans       \n",
    "#loans['disburse_time_year'] = loans.groupby(['loan_id']).agg({'disburse_time':[lambda x: dt.strptime(x.avg(), \"%Y-%m-%d %H:%M:%S.%f %z\").year]}) \n",
    "#loans_agg = loans.groupby(['country_code','country_name','disburse_time_year'], as_index = False).agg({'loan_amount':['count', 'sum', lambda x: x.sum()/total*100]})\n",
    "#loans_agg.columns = loans_agg.columns.droplevel(0)\n",
    "#print(\"--- %s seconds ---\" % (tm.time()-start_time)) \n",
    "#loans_agg\n",
    "                                                                                                       \n",
    "                                                                                                       "
   ]
  },
  {
   "cell_type": "markdown",
   "metadata": {},
   "source": [
    "`8.` For each lender, compute the overall amount of money lent. For each loan that has more than one lender, you must assume that all lenders contributed the same amount.\n"
   ]
  },
  {
   "cell_type": "markdown",
   "metadata": {},
   "source": [
    "- One solution is based on calculation using dicitionary objects:"
   ]
  },
  {
   "cell_type": "code",
   "execution_count": null,
   "metadata": {},
   "outputs": [],
   "source": [
    "import time as tm\n",
    "start_time = tm.time()\n",
    "loan_ids_by_lender = {}\n",
    "number_of_lenders_by_loan_id = {}\n",
    "for index, row in loans_lender.iterrows(): \n",
    "    loanId = row['loan_id']\n",
    "    lender = row['lender']\n",
    "    s = loan_ids_by_lender.get(lender,set())\n",
    "    s.add(loanId)\n",
    "    loan_ids_by_lender[lender] = s \n",
    "    number_of_lenders_by_loan_id[loanId] = number_of_lenders_by_loan_id.get(loanId, 0) + 1\n",
    "amount_by_loan_id = {}\n",
    "for index, row in loans.iterrows(): \n",
    "    loanId = row['loan_id']\n",
    "    amount = row['loan_amount']\n",
    "    amount_by_loan_id[loanId] = amount\n",
    "#(loan_ids_by_lender, number_of_lenders_by_loan_id, amount_by_loan_id)  \n",
    "money_lent = {}\n",
    "for lender in loan_ids_by_lender:\n",
    "    s = loan_ids_by_lender[lender]\n",
    "    amm = 0\n",
    "    for loanId in s:\n",
    "        amm += amount_by_loan_id.get(loanId,0) / number_of_lenders_by_loan_id.get(loanId,1)\n",
    "    money_lent[lender] = amm\n",
    "print(\"--- %s seconds ---\" % (tm.time()-start_time)) \n",
    "money_lent\n"
   ]
  },
  {
   "cell_type": "markdown",
   "metadata": {},
   "source": [
    "- Another solution is based on panda functions:"
   ]
  },
  {
   "cell_type": "code",
   "execution_count": null,
   "metadata": {},
   "outputs": [],
   "source": [
    "import time as tm\n",
    "start_time = tm.time()\n",
    "merged = pd.merge(left=loans_lender,right=loans, left_on='loan_id', right_on='loan_id')\n",
    "merged = merged[['loan_id','lender', 'loan_amount']]\n",
    "number_of_lenders_by_loan_id = merged.groupby(['loan_id'], as_index = False)[['lender']].count()\n",
    "number_of_lenders_by_loan_id\n",
    "merged2 = pd.merge(left=merged,right=number_of_lenders_by_loan_id, left_on='loan_id', right_on='loan_id')\n",
    "merged2['precise_amount'] = merged2.loan_amount / merged2.lender_y\n",
    "merged2\n",
    "lent_by_lender = merged2.groupby(['lender_x'], as_index = False)[['precise_amount']].sum()\n",
    "print(\"--- %s seconds ---\" % (tm.time()-start_time)) \n",
    "lent_by_lender\n",
    "#result.loc[result['lender_x'] == 'muc888'] # result for one lender"
   ]
  },
  {
   "cell_type": "markdown",
   "metadata": {},
   "source": [
    "`9.` For each country, compute the difference between the overall amount of money lent and the overall amount of money borrowed. Since the country of the lender is often unknown, you can assume that the true distribution among the countries is the same as the one computed from the rows where the country is known.\n"
   ]
  },
  {
   "cell_type": "code",
   "execution_count": null,
   "metadata": {
    "scrolled": true
   },
   "outputs": [],
   "source": [
    "import pandas as pd\n",
    "import numpy as np\n",
    "import time as tm\n",
    "start_time = tm.time()\n",
    "lenders = pd.read_csv('../../Datasets/kiva/lenders.csv')\n",
    "if not FINAL:\n",
    "    lenders = lenders.head(20000) \n",
    "lender_states = lenders[['permanent_name','country_code']]\n",
    "lender_states"
   ]
  },
  {
   "cell_type": "code",
   "execution_count": null,
   "metadata": {
    "scrolled": true
   },
   "outputs": [],
   "source": [
    "lenders_in_states = lender_states.loc[lender_states['country_code'].notnull()]\n",
    "lenders_in_states"
   ]
  },
  {
   "cell_type": "code",
   "execution_count": null,
   "metadata": {
    "scrolled": true
   },
   "outputs": [],
   "source": [
    "lenders_without_states = lender_states.loc[lender_states['country_code'].isnull()]\n",
    "lenders_without_states"
   ]
  },
  {
   "cell_type": "code",
   "execution_count": null,
   "metadata": {
    "scrolled": false
   },
   "outputs": [],
   "source": [
    "lent_and_state = pd.merge(left=lent_by_lender, right=lenders_in_states, left_on='lender_x', right_on='permanent_name')\n",
    "lent_and_state"
   ]
  },
  {
   "cell_type": "markdown",
   "metadata": {},
   "source": [
    "`10.` Which country has the highest ratio between the difference computed at the previous point and the population?\n"
   ]
  },
  {
   "cell_type": "markdown",
   "metadata": {},
   "source": [
    "`11.` Which country has the highest ratio between the difference computed at point 9 and the population that is not below the poverty line?\n"
   ]
  },
  {
   "cell_type": "markdown",
   "metadata": {},
   "source": [
    "`12.` For each year, compute the total amount of loans. Each loan that has planned expiration time and disburse time in different years must have its amount distributed proportionally to the number of days in each year. For example, a loan with disburse time December 1st, 2016, planned expiration time January 30th 2018, and amount 5000USD has an amount of 5000USD * 31 / (31+365+30) = 363.85 for 2016, 5000USD * 365 / (31+365+30) = 4284.04 for 2017, and 5000USD * 30 / (31+365+30) = 352.11 for 2018."
   ]
  }
 ],
 "metadata": {
  "kernelspec": {
   "display_name": "Python 3",
   "language": "python",
   "name": "python3"
  },
  "language_info": {
   "codemirror_mode": {
    "name": "ipython",
    "version": 3
   },
   "file_extension": ".py",
   "mimetype": "text/x-python",
   "name": "python",
   "nbconvert_exporter": "python",
   "pygments_lexer": "ipython3",
   "version": "3.7.4"
  }
 },
 "nbformat": 4,
 "nbformat_minor": 2
}
